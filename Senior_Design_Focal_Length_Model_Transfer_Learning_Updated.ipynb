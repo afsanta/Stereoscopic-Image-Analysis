{
  "nbformat": 4,
  "nbformat_minor": 0,
  "metadata": {
    "colab": {
      "name": "Senior Design Focal Length Model Transfer Learning Updated.ipynb",
      "provenance": [],
      "collapsed_sections": [],
      "toc_visible": true,
      "machine_shape": "hm",
      "include_colab_link": true
    },
    "kernelspec": {
      "name": "python3",
      "display_name": "Python 3"
    },
    "accelerator": "GPU"
  },
  "cells": [
    {
      "cell_type": "markdown",
      "metadata": {
        "id": "view-in-github",
        "colab_type": "text"
      },
      "source": [
        "<a href=\"https://colab.research.google.com/github/cdowlatram/Stereoscopic-Image-Analysis/blob/master/Senior_Design_Focal_Length_Model_Transfer_Learning_Updated.ipynb\" target=\"_parent\"><img src=\"https://colab.research.google.com/assets/colab-badge.svg\" alt=\"Open In Colab\"/></a>"
      ]
    },
    {
      "cell_type": "markdown",
      "metadata": {
        "id": "WSkrNMRlBBEV",
        "colab_type": "text"
      },
      "source": [
        "This notebook is a work in progress and serves as the basis for creating the model which will be used for focal length inferences in our GUI."
      ]
    },
    {
      "cell_type": "markdown",
      "metadata": {
        "id": "gCir9h509M3r",
        "colab_type": "text"
      },
      "source": [
        "# Imports"
      ]
    },
    {
      "cell_type": "code",
      "metadata": {
        "id": "vfBPjM9L4-R5",
        "colab_type": "code",
        "outputId": "b1148436-3eb0-4596-c1bd-2ce0415748ab",
        "colab": {
          "base_uri": "https://localhost:8080/",
          "height": 35
        }
      },
      "source": [
        "!pip install pymysql\n",
        "\n",
        "import gc\n",
        "import pymysql\n",
        "import os"
      ],
      "execution_count": 0,
      "outputs": [
        {
          "output_type": "stream",
          "text": [
            "Requirement already satisfied: pymysql in /usr/local/lib/python3.6/dist-packages (0.9.3)\n"
          ],
          "name": "stdout"
        }
      ]
    },
    {
      "cell_type": "code",
      "metadata": {
        "id": "Yrdj_pG_Y1VE",
        "colab_type": "code",
        "colab": {}
      },
      "source": [
        "# Pandas and Numpy for data structures and util fucntions\n",
        "import numpy as np\n",
        "import pandas as pd\n",
        "from numpy.random import rand\n",
        "\n",
        "pd.options.display.max_colwidth = 600\n",
        "\n",
        "# Scikit Imports\n",
        "from sklearn.model_selection import train_test_split\n",
        "\n",
        "# Matplot Imports\n",
        "import matplotlib.pyplot as plt\n",
        "params = {'legend.fontsize': 'x-large',\n",
        "          'figure.figsize': (15, 5),\n",
        "          'axes.labelsize': 'x-large',\n",
        "          'axes.titlesize':'x-large',\n",
        "          'xtick.labelsize':'x-large',\n",
        "          'ytick.labelsize':'x-large'}\n",
        "\n",
        "plt.rcParams.update(params)\n",
        "%matplotlib inline\n",
        "\n",
        "# pandas display data frames as tables\n",
        "from IPython.display import display, HTML\n",
        "\n",
        "import warnings\n",
        "warnings.filterwarnings('ignore')"
      ],
      "execution_count": 0,
      "outputs": []
    },
    {
      "cell_type": "code",
      "metadata": {
        "id": "7wtMJ1dlarid",
        "colab_type": "code",
        "outputId": "cf74fb1a-c1cd-46c9-d2cb-2f22679ebc95",
        "colab": {
          "base_uri": "https://localhost:8080/",
          "height": 99
        }
      },
      "source": [
        "from keras import regularizers\n",
        "from keras.models import Model\n",
        "from keras.optimizers import Adam\n",
        "from keras.optimizers import SGD\n",
        "from keras.layers import Dropout\n",
        "from keras.layers import GlobalAveragePooling2D\n",
        "from keras.layers import BatchNormalization\n",
        "from keras.layers import Activation,Dense\n",
        "from keras.models import Sequential,load_model\n",
        "from keras.preprocessing.image import ImageDataGenerator, img_to_array, load_img, array_to_img\n",
        "from keras.applications.inception_v3 import InceptionV3\n",
        "from keras.applications.inception_resnet_v2 import InceptionResNetV2\n",
        "from keras.applications.xception import Xception\n",
        "from keras.applications.nasnet import NASNetMobile\n",
        "from keras.applications.nasnet import NASNetLarge"
      ],
      "execution_count": 0,
      "outputs": [
        {
          "output_type": "stream",
          "text": [
            "Using TensorFlow backend.\n"
          ],
          "name": "stderr"
        },
        {
          "output_type": "display_data",
          "data": {
            "text/html": [
              "<p style=\"color: red;\">\n",
              "The default version of TensorFlow in Colab will soon switch to TensorFlow 2.x.<br>\n",
              "We recommend you <a href=\"https://www.tensorflow.org/guide/migrate\" target=\"_blank\">upgrade</a> now \n",
              "or ensure your notebook will continue to use TensorFlow 1.x via the <code>%tensorflow_version 1.x</code> magic:\n",
              "<a href=\"https://colab.research.google.com/notebooks/tensorflow_version.ipynb\" target=\"_blank\">more info</a>.</p>\n"
            ],
            "text/plain": [
              "<IPython.core.display.HTML object>"
            ]
          },
          "metadata": {
            "tags": []
          }
        }
      ]
    },
    {
      "cell_type": "code",
      "metadata": {
        "id": "LCajOQ8H7eGq",
        "colab_type": "code",
        "colab": {}
      },
      "source": [
        "from sklearn import metrics\n",
        "import numpy as np\n",
        "import pandas as pd\n",
        "import matplotlib.pyplot as plt\n",
        "from sklearn.preprocessing import LabelEncoder\n",
        "from sklearn.base import clone\n",
        "from sklearn.preprocessing import label_binarize\n",
        "from scipy import interp\n",
        "from sklearn.metrics import roc_curve, auc \n",
        "\n",
        "\n",
        "def get_metrics(true_labels, predicted_labels):\n",
        "    \n",
        "    print('Accuracy:', np.round(\n",
        "                        metrics.accuracy_score(true_labels, \n",
        "                                               predicted_labels),\n",
        "                        4))\n",
        "    print('Precision:', np.round(\n",
        "                        metrics.precision_score(true_labels, \n",
        "                                               predicted_labels,\n",
        "                                               average='weighted'),\n",
        "                        4))\n",
        "    print('Recall:', np.round(\n",
        "                        metrics.recall_score(true_labels, \n",
        "                                               predicted_labels,\n",
        "                                               average='weighted'),\n",
        "                        4))\n",
        "    print('F1 Score:', np.round(\n",
        "                        metrics.f1_score(true_labels, \n",
        "                                               predicted_labels,\n",
        "                                               average='weighted'),\n",
        "                        4))\n",
        "                        \n",
        "\n",
        "def train_predict_model(classifier, \n",
        "                        train_features, train_labels, \n",
        "                        test_features, test_labels):\n",
        "    # build model    \n",
        "    classifier.fit(train_features, train_labels)\n",
        "    # predict using model\n",
        "    predictions = classifier.predict(test_features) \n",
        "    return predictions    \n",
        "\n",
        "\n",
        "def display_confusion_matrix(true_labels, predicted_labels, classes=[1,0]):\n",
        "    \n",
        "    total_classes = len(classes)\n",
        "    level_labels = [total_classes*[0], list(range(total_classes))]\n",
        "\n",
        "    cm = metrics.confusion_matrix(y_true=true_labels, y_pred=predicted_labels, \n",
        "                                  labels=classes)\n",
        "    cm_frame = pd.DataFrame(data=cm, \n",
        "                            columns=pd.MultiIndex(levels=[['Predicted:'], classes], \n",
        "                                                  labels=level_labels), \n",
        "                            index=pd.MultiIndex(levels=[['Actual:'], classes], \n",
        "                                                labels=level_labels)) \n",
        "    print(cm_frame) \n",
        "    \n",
        "def display_classification_report(true_labels, predicted_labels, classes=[1,0]):\n",
        "\n",
        "    report = metrics.classification_report(y_true=true_labels, \n",
        "                                           y_pred=predicted_labels, \n",
        "                                           labels=classes) \n",
        "    print(report)\n",
        "    \n",
        "    \n",
        "    \n",
        "def display_model_performance_metrics(true_labels, predicted_labels, classes=[1,0]):\n",
        "    print('Model Performance metrics:')\n",
        "    print('-'*30)\n",
        "    get_metrics(true_labels=true_labels, predicted_labels=predicted_labels)\n",
        "    print('\\nModel Classification report:')\n",
        "    print('-'*30)\n",
        "    display_classification_report(true_labels=true_labels, predicted_labels=predicted_labels, \n",
        "                                  classes=classes)\n",
        "    print('\\nPrediction Confusion Matrix:')\n",
        "    print('-'*30)\n",
        "    display_confusion_matrix(true_labels=true_labels, predicted_labels=predicted_labels, \n",
        "                             classes=classes)\n",
        "\n",
        "\n",
        "def plot_model_decision_surface(clf, train_features, train_labels,\n",
        "                                plot_step=0.02, cmap=plt.cm.RdYlBu,\n",
        "                                markers=None, alphas=None, colors=None):\n",
        "    \n",
        "    if train_features.shape[1] != 2:\n",
        "        raise ValueError(\"X_train should have exactly 2 columnns!\")\n",
        "    \n",
        "    x_min, x_max = train_features[:, 0].min() - plot_step, train_features[:, 0].max() + plot_step\n",
        "    y_min, y_max = train_features[:, 1].min() - plot_step, train_features[:, 1].max() + plot_step\n",
        "    xx, yy = np.meshgrid(np.arange(x_min, x_max, plot_step),\n",
        "                         np.arange(y_min, y_max, plot_step))\n",
        "\n",
        "    clf_est = clone(clf)\n",
        "    clf_est.fit(train_features,train_labels)\n",
        "    if hasattr(clf_est, 'predict_proba'):\n",
        "        Z = clf_est.predict_proba(np.c_[xx.ravel(), yy.ravel()])[:,1]\n",
        "    else:\n",
        "        Z = clf_est.predict(np.c_[xx.ravel(), yy.ravel()])    \n",
        "    Z = Z.reshape(xx.shape)\n",
        "    cs = plt.contourf(xx, yy, Z, cmap=cmap)\n",
        "    \n",
        "    le = LabelEncoder()\n",
        "    y_enc = le.fit_transform(train_labels)\n",
        "    n_classes = len(le.classes_)\n",
        "    plot_colors = ''.join(colors) if colors else [None] * n_classes\n",
        "    label_names = le.classes_\n",
        "    markers = markers if markers else [None] * n_classes\n",
        "    alphas = alphas if alphas else [None] * n_classes\n",
        "    for i, color in zip(range(n_classes), plot_colors):\n",
        "        idx = np.where(y_enc == i)\n",
        "        plt.scatter(train_features[idx, 0], train_features[idx, 1], c=color,\n",
        "                    label=label_names[i], cmap=cmap, edgecolors='black', \n",
        "                    marker=markers[i], alpha=alphas[i])\n",
        "    plt.legend()\n",
        "    plt.show()\n",
        "\n",
        "\n",
        "def plot_model_roc_curve(clf, features, true_labels, label_encoder=None, class_names=None):\n",
        "    \n",
        "    ## Compute ROC curve and ROC area for each class\n",
        "    fpr = dict()\n",
        "    tpr = dict()\n",
        "    roc_auc = dict()\n",
        "    if hasattr(clf, 'classes_'):\n",
        "        class_labels = clf.classes_\n",
        "    elif label_encoder:\n",
        "        class_labels = label_encoder.classes_\n",
        "    elif class_names:\n",
        "        class_labels = class_names\n",
        "    else:\n",
        "        raise ValueError('Unable to derive prediction classes, please specify class_names!')\n",
        "    n_classes = len(class_labels)\n",
        "    y_test = label_binarize(true_labels, classes=class_labels)\n",
        "    if n_classes == 2:\n",
        "        if hasattr(clf, 'predict_proba'):\n",
        "            prob = clf.predict_proba(features)\n",
        "            y_score = prob[:, prob.shape[1]-1] \n",
        "        elif hasattr(clf, 'decision_function'):\n",
        "            prob = clf.decision_function(features)\n",
        "            y_score = prob[:, prob.shape[1]-1]\n",
        "        else:\n",
        "            raise AttributeError(\"Estimator doesn't have a probability or confidence scoring system!\")\n",
        "        \n",
        "        fpr, tpr, _ = roc_curve(y_test, y_score)      \n",
        "        roc_auc = auc(fpr, tpr)\n",
        "        plt.plot(fpr, tpr, label='ROC curve (area = {0:0.2f})'\n",
        "                                 ''.format(roc_auc),\n",
        "                 linewidth=2.5)\n",
        "        \n",
        "    elif n_classes > 2:\n",
        "        if hasattr(clf, 'predict_proba'):\n",
        "            y_score = clf.predict_proba(features)\n",
        "        elif hasattr(clf, 'decision_function'):\n",
        "            y_score = clf.decision_function(features)\n",
        "        else:\n",
        "            raise AttributeError(\"Estimator doesn't have a probability or confidence scoring system!\")\n",
        "\n",
        "        for i in range(n_classes):\n",
        "            fpr[i], tpr[i], _ = roc_curve(y_test[:, i], y_score[:, i])\n",
        "            roc_auc[i] = auc(fpr[i], tpr[i])\n",
        "\n",
        "        ## Compute micro-average ROC curve and ROC area\n",
        "        fpr[\"micro\"], tpr[\"micro\"], _ = roc_curve(y_test.ravel(), y_score.ravel())\n",
        "        roc_auc[\"micro\"] = auc(fpr[\"micro\"], tpr[\"micro\"])\n",
        "\n",
        "        ## Compute macro-average ROC curve and ROC area\n",
        "        # First aggregate all false positive rates\n",
        "        all_fpr = np.unique(np.concatenate([fpr[i] for i in range(n_classes)]))\n",
        "        # Then interpolate all ROC curves at this points\n",
        "        mean_tpr = np.zeros_like(all_fpr)\n",
        "        for i in range(n_classes):\n",
        "            mean_tpr += interp(all_fpr, fpr[i], tpr[i])\n",
        "        # Finally average it and compute AUC\n",
        "        mean_tpr /= n_classes\n",
        "        fpr[\"macro\"] = all_fpr\n",
        "        tpr[\"macro\"] = mean_tpr\n",
        "        roc_auc[\"macro\"] = auc(fpr[\"macro\"], tpr[\"macro\"])\n",
        "\n",
        "        ## Plot ROC curves\n",
        "        plt.figure(figsize=(6, 4))\n",
        "        plt.plot(fpr[\"micro\"], tpr[\"micro\"],\n",
        "                 label='micro-average ROC curve (area = {0:0.2f})'\n",
        "                       ''.format(roc_auc[\"micro\"]), linewidth=3)\n",
        "\n",
        "        plt.plot(fpr[\"macro\"], tpr[\"macro\"],\n",
        "                 label='macro-average ROC curve (area = {0:0.2f})'\n",
        "                       ''.format(roc_auc[\"macro\"]), linewidth=3)\n",
        "\n",
        "        for i, label in enumerate(class_labels):\n",
        "            plt.plot(fpr[i], tpr[i], label='ROC curve of class {0} (area = {1:0.2f})'\n",
        "                                           ''.format(label, roc_auc[i]), \n",
        "                     linewidth=2, linestyle=':')\n",
        "    else:\n",
        "        raise ValueError('Number of classes should be atleast 2 or more')\n",
        "        \n",
        "    plt.plot([0, 1], [0, 1], 'k--')\n",
        "    plt.xlim([0.0, 1.0])\n",
        "    plt.ylim([0.0, 1.05])\n",
        "    plt.xlabel('False Positive Rate')\n",
        "    plt.ylabel('True Positive Rate')\n",
        "    plt.title('Receiver Operating Characteristic (ROC) Curve')\n",
        "    plt.legend(loc=\"lower right\")\n",
        "    plt.show()"
      ],
      "execution_count": 0,
      "outputs": []
    },
    {
      "cell_type": "markdown",
      "metadata": {
        "id": "ZDUG65B14Bj8",
        "colab_type": "text"
      },
      "source": [
        "# Pulling Training Data"
      ]
    },
    {
      "cell_type": "code",
      "metadata": {
        "id": "FgX76tzBFZ4A",
        "colab_type": "code",
        "outputId": "679670f8-d12b-4b4b-8f81-a3a739fea389",
        "colab": {
          "base_uri": "https://localhost:8080/",
          "height": 1000
        }
      },
      "source": [
        "%time\n",
        "!wget \"https://ndownloader.figshare.com/files/5317945\"\n",
        "!wget \"https://ndownloader.figshare.com/files/5317948\"\n",
        "!wget \"https://ndownloader.figshare.com/files/5317951\"\n",
        "!wget \"https://ndownloader.figshare.com/files/5317966\""
      ],
      "execution_count": 0,
      "outputs": [
        {
          "output_type": "stream",
          "text": [
            "CPU times: user 3 µs, sys: 0 ns, total: 3 µs\n",
            "Wall time: 5.48 µs\n",
            "--2019-11-22 19:09:00--  https://ndownloader.figshare.com/files/5317945\n",
            "Resolving ndownloader.figshare.com (ndownloader.figshare.com)... 34.252.88.235, 52.208.39.29, 52.18.118.253, ...\n",
            "Connecting to ndownloader.figshare.com (ndownloader.figshare.com)|34.252.88.235|:443... connected.\n",
            "HTTP request sent, awaiting response... 302 Found\n",
            "Location: https://s3-eu-west-1.amazonaws.com/pfigshare-u-files/5317945/images.part1.rar [following]\n",
            "--2019-11-22 19:09:00--  https://s3-eu-west-1.amazonaws.com/pfigshare-u-files/5317945/images.part1.rar\n",
            "Resolving s3-eu-west-1.amazonaws.com (s3-eu-west-1.amazonaws.com)... 52.218.52.194\n",
            "Connecting to s3-eu-west-1.amazonaws.com (s3-eu-west-1.amazonaws.com)|52.218.52.194|:443... connected.\n",
            "HTTP request sent, awaiting response... 200 OK\n",
            "Length: 2097152000 (2.0G) [binary/octet-stream]\n",
            "Saving to: ‘5317945’\n",
            "\n",
            "5317945             100%[===================>]   1.95G  20.9MB/s    in 96s     \n",
            "\n",
            "2019-11-22 19:10:37 (20.9 MB/s) - ‘5317945’ saved [2097152000/2097152000]\n",
            "\n",
            "--2019-11-22 19:10:37--  https://ndownloader.figshare.com/files/5317948\n",
            "Resolving ndownloader.figshare.com (ndownloader.figshare.com)... 52.208.39.29, 34.250.250.132, 52.18.118.253, ...\n",
            "Connecting to ndownloader.figshare.com (ndownloader.figshare.com)|52.208.39.29|:443... connected.\n",
            "HTTP request sent, awaiting response... 302 Found\n",
            "Location: https://s3-eu-west-1.amazonaws.com/pfigshare-u-files/5317948/images.part2.rar [following]\n",
            "--2019-11-22 19:10:38--  https://s3-eu-west-1.amazonaws.com/pfigshare-u-files/5317948/images.part2.rar\n",
            "Resolving s3-eu-west-1.amazonaws.com (s3-eu-west-1.amazonaws.com)... 52.218.96.98\n",
            "Connecting to s3-eu-west-1.amazonaws.com (s3-eu-west-1.amazonaws.com)|52.218.96.98|:443... connected.\n",
            "HTTP request sent, awaiting response... 200 OK\n",
            "Length: 2097152000 (2.0G) [binary/octet-stream]\n",
            "Saving to: ‘5317948’\n",
            "\n",
            "5317948             100%[===================>]   1.95G  21.7MB/s    in 92s     \n",
            "\n",
            "2019-11-22 19:12:10 (21.8 MB/s) - ‘5317948’ saved [2097152000/2097152000]\n",
            "\n",
            "--2019-11-22 19:12:11--  https://ndownloader.figshare.com/files/5317951\n",
            "Resolving ndownloader.figshare.com (ndownloader.figshare.com)... 34.252.88.235, 34.250.250.132, 52.18.118.253, ...\n",
            "Connecting to ndownloader.figshare.com (ndownloader.figshare.com)|34.252.88.235|:443... connected.\n",
            "HTTP request sent, awaiting response... 302 Found\n",
            "Location: https://s3-eu-west-1.amazonaws.com/pfigshare-u-files/5317951/images.part3.rar [following]\n",
            "--2019-11-22 19:12:12--  https://s3-eu-west-1.amazonaws.com/pfigshare-u-files/5317951/images.part3.rar\n",
            "Resolving s3-eu-west-1.amazonaws.com (s3-eu-west-1.amazonaws.com)... 52.218.80.44\n",
            "Connecting to s3-eu-west-1.amazonaws.com (s3-eu-west-1.amazonaws.com)|52.218.80.44|:443... connected.\n",
            "HTTP request sent, awaiting response... 200 OK\n",
            "Length: 2097152000 (2.0G) [binary/octet-stream]\n",
            "Saving to: ‘5317951’\n",
            "\n",
            "5317951             100%[===================>]   1.95G  17.1MB/s    in 1m 59s  \n",
            "\n",
            "2019-11-22 19:14:12 (16.7 MB/s) - ‘5317951’ saved [2097152000/2097152000]\n",
            "\n",
            "--2019-11-22 19:14:13--  https://ndownloader.figshare.com/files/5317966\n",
            "Resolving ndownloader.figshare.com (ndownloader.figshare.com)... 34.250.250.132, 52.208.39.29, 34.252.88.235, ...\n",
            "Connecting to ndownloader.figshare.com (ndownloader.figshare.com)|34.250.250.132|:443... connected.\n",
            "HTTP request sent, awaiting response... 302 Found\n",
            "Location: https://s3-eu-west-1.amazonaws.com/pfigshare-u-files/5317966/images.part4.rar [following]\n",
            "--2019-11-22 19:14:13--  https://s3-eu-west-1.amazonaws.com/pfigshare-u-files/5317966/images.part4.rar\n",
            "Resolving s3-eu-west-1.amazonaws.com (s3-eu-west-1.amazonaws.com)... 52.218.108.139\n",
            "Connecting to s3-eu-west-1.amazonaws.com (s3-eu-west-1.amazonaws.com)|52.218.108.139|:443... connected.\n",
            "HTTP request sent, awaiting response... 200 OK\n",
            "Length: 899877063 (858M) [binary/octet-stream]\n",
            "Saving to: ‘5317966’\n",
            "\n",
            "5317966             100%[===================>] 858.19M  21.8MB/s    in 41s     \n",
            "\n",
            "2019-11-22 19:14:54 (21.1 MB/s) - ‘5317966’ saved [899877063/899877063]\n",
            "\n"
          ],
          "name": "stdout"
        }
      ]
    },
    {
      "cell_type": "code",
      "metadata": {
        "id": "CcYd4jtP5qog",
        "colab_type": "code",
        "outputId": "dadea029-c017-4fbe-f30b-37fbad630b5f",
        "colab": {
          "base_uri": "https://localhost:8080/",
          "height": 1000
        }
      },
      "source": [
        "%time\n",
        "!wget \"http://landmark.cs.cornell.edu/projects/1dsfm/images.Alamo.tar\"\n",
        "!wget \"http://landmark.cs.cornell.edu/projects/1dsfm/images.Ellis_Island.tar\"\n",
        "!wget \"http://landmark.cs.cornell.edu/projects/1dsfm/images.Madrid_Metropolis.tar\"\n",
        "!wget \"http://landmark.cs.cornell.edu/projects/1dsfm/images.Montreal_Notre_Dame.tar\"\n",
        "!wget \"http://landmark.cs.cornell.edu/projects/1dsfm/images.NYC_Library.tar\"\n",
        "!wget \"http://landmark.cs.cornell.edu/projects/1dsfm/images.Piazza_del_Popolo.tar\"\n",
        "!wget \"http://landmark.cs.cornell.edu/projects/1dsfm/images.Piccadilly.tar\"\n",
        "!wget \"http://landmark.cs.cornell.edu/projects/1dsfm/images.Roman_Forum.tar\"\n",
        "!wget \"http://landmark.cs.cornell.edu/projects/1dsfm/images.Tower_of_London.tar\"\n",
        "!wget \"http://landmark.cs.cornell.edu/projects/1dsfm/images.Trafalgar.tar\"\n",
        "!wget \"http://landmark.cs.cornell.edu/projects/1dsfm/images.Union_Square.tar\"\n",
        "!wget \"http://landmark.cs.cornell.edu/projects/1dsfm/images.Vienna_Cathedral.tar\"\n",
        "!wget \"http://landmark.cs.cornell.edu/projects/1dsfm/images.Yorkminster.tar\"\n",
        "!wget \"http://landmark.cs.cornell.edu/projects/1dsfm/images.Gendarmenmarkt.tar\""
      ],
      "execution_count": 0,
      "outputs": [
        {
          "output_type": "stream",
          "text": [
            "CPU times: user 2 µs, sys: 0 ns, total: 2 µs\n",
            "Wall time: 8.82 µs\n",
            "--2019-11-22 19:14:55--  http://landmark.cs.cornell.edu/projects/1dsfm/images.Alamo.tar\n",
            "Resolving landmark.cs.cornell.edu (landmark.cs.cornell.edu)... 128.253.51.24\n",
            "Connecting to landmark.cs.cornell.edu (landmark.cs.cornell.edu)|128.253.51.24|:80... connected.\n",
            "HTTP request sent, awaiting response... 200 OK\n",
            "Length: 2088273408 (1.9G) [application/x-tar]\n",
            "Saving to: ‘images.Alamo.tar’\n",
            "\n",
            "images.Alamo.tar    100%[===================>]   1.94G  40.9MB/s    in 51s     \n",
            "\n",
            "2019-11-22 19:15:46 (39.4 MB/s) - ‘images.Alamo.tar’ saved [2088273408/2088273408]\n",
            "\n",
            "--2019-11-22 19:15:47--  http://landmark.cs.cornell.edu/projects/1dsfm/images.Ellis_Island.tar\n",
            "Resolving landmark.cs.cornell.edu (landmark.cs.cornell.edu)... 128.253.51.24\n",
            "Connecting to landmark.cs.cornell.edu (landmark.cs.cornell.edu)|128.253.51.24|:80... connected.\n",
            "HTTP request sent, awaiting response... 200 OK\n",
            "Length: 1621630976 (1.5G) [application/x-tar]\n",
            "Saving to: ‘images.Ellis_Island.tar’\n",
            "\n",
            "images.Ellis_Island 100%[===================>]   1.51G  41.8MB/s    in 40s     \n",
            "\n",
            "2019-11-22 19:16:27 (39.0 MB/s) - ‘images.Ellis_Island.tar’ saved [1621630976/1621630976]\n",
            "\n",
            "--2019-11-22 19:16:27--  http://landmark.cs.cornell.edu/projects/1dsfm/images.Madrid_Metropolis.tar\n",
            "Resolving landmark.cs.cornell.edu (landmark.cs.cornell.edu)... 128.253.51.24\n",
            "Connecting to landmark.cs.cornell.edu (landmark.cs.cornell.edu)|128.253.51.24|:80... connected.\n",
            "HTTP request sent, awaiting response... 200 OK\n",
            "Length: 740751360 (706M) [application/x-tar]\n",
            "Saving to: ‘images.Madrid_Metropolis.tar’\n",
            "\n",
            "images.Madrid_Metro 100%[===================>] 706.44M  41.3MB/s    in 19s     \n",
            "\n",
            "2019-11-22 19:16:47 (37.0 MB/s) - ‘images.Madrid_Metropolis.tar’ saved [740751360/740751360]\n",
            "\n",
            "--2019-11-22 19:16:47--  http://landmark.cs.cornell.edu/projects/1dsfm/images.Montreal_Notre_Dame.tar\n",
            "Resolving landmark.cs.cornell.edu (landmark.cs.cornell.edu)... 128.253.51.24\n",
            "Connecting to landmark.cs.cornell.edu (landmark.cs.cornell.edu)|128.253.51.24|:80... connected.\n",
            "HTTP request sent, awaiting response... 200 OK\n",
            "Length: 1626819584 (1.5G) [application/x-tar]\n",
            "Saving to: ‘images.Montreal_Notre_Dame.tar’\n",
            "\n",
            "images.Montreal_Not 100%[===================>]   1.51G  39.3MB/s    in 41s     \n",
            "\n",
            "2019-11-22 19:17:29 (37.4 MB/s) - ‘images.Montreal_Notre_Dame.tar’ saved [1626819584/1626819584]\n",
            "\n",
            "--2019-11-22 19:17:30--  http://landmark.cs.cornell.edu/projects/1dsfm/images.NYC_Library.tar\n",
            "Resolving landmark.cs.cornell.edu (landmark.cs.cornell.edu)... 128.253.51.24\n",
            "Connecting to landmark.cs.cornell.edu (landmark.cs.cornell.edu)|128.253.51.24|:80... connected.\n",
            "HTTP request sent, awaiting response... 200 OK\n",
            "Length: 1690473472 (1.6G) [application/x-tar]\n",
            "Saving to: ‘images.NYC_Library.tar’\n",
            "\n",
            "images.NYC_Library. 100%[===================>]   1.57G  38.1MB/s    in 44s     \n",
            "\n",
            "2019-11-22 19:18:14 (36.5 MB/s) - ‘images.NYC_Library.tar’ saved [1690473472/1690473472]\n",
            "\n",
            "--2019-11-22 19:18:15--  http://landmark.cs.cornell.edu/projects/1dsfm/images.Piazza_del_Popolo.tar\n",
            "Resolving landmark.cs.cornell.edu (landmark.cs.cornell.edu)... 128.253.51.24\n",
            "Connecting to landmark.cs.cornell.edu (landmark.cs.cornell.edu)|128.253.51.24|:80... connected.\n",
            "HTTP request sent, awaiting response... 200 OK\n",
            "Length: 1517672448 (1.4G) [application/x-tar]\n",
            "Saving to: ‘images.Piazza_del_Popolo.tar’\n",
            "\n",
            "images.Piazza_del_P 100%[===================>]   1.41G  40.0MB/s    in 38s     \n",
            "\n",
            "2019-11-22 19:18:53 (37.7 MB/s) - ‘images.Piazza_del_Popolo.tar’ saved [1517672448/1517672448]\n",
            "\n",
            "--2019-11-22 19:18:54--  http://landmark.cs.cornell.edu/projects/1dsfm/images.Piccadilly.tar\n",
            "Resolving landmark.cs.cornell.edu (landmark.cs.cornell.edu)... 128.253.51.24\n",
            "Connecting to landmark.cs.cornell.edu (landmark.cs.cornell.edu)|128.253.51.24|:80... connected.\n",
            "HTTP request sent, awaiting response... 200 OK\n",
            "Length: 3965238272 (3.7G) [application/x-tar]\n",
            "Saving to: ‘images.Piccadilly.tar’\n",
            "\n",
            "images.Piccadilly.t 100%[===================>]   3.69G  41.1MB/s    in 1m 41s  \n",
            "\n",
            "2019-11-22 19:20:35 (37.4 MB/s) - ‘images.Piccadilly.tar’ saved [3965238272/3965238272]\n",
            "\n",
            "--2019-11-22 19:20:36--  http://landmark.cs.cornell.edu/projects/1dsfm/images.Roman_Forum.tar\n",
            "Resolving landmark.cs.cornell.edu (landmark.cs.cornell.edu)... 128.253.51.24\n",
            "Connecting to landmark.cs.cornell.edu (landmark.cs.cornell.edu)|128.253.51.24|:80... connected.\n",
            "HTTP request sent, awaiting response... 200 OK\n",
            "Length: 1588503552 (1.5G) [application/x-tar]\n",
            "Saving to: ‘images.Roman_Forum.tar’\n",
            "\n",
            "images.Roman_Forum. 100%[===================>]   1.48G  41.4MB/s    in 39s     \n",
            "\n",
            "2019-11-22 19:21:15 (39.0 MB/s) - ‘images.Roman_Forum.tar’ saved [1588503552/1588503552]\n",
            "\n",
            "--2019-11-22 19:21:15--  http://landmark.cs.cornell.edu/projects/1dsfm/images.Tower_of_London.tar\n",
            "Resolving landmark.cs.cornell.edu (landmark.cs.cornell.edu)... 128.253.51.24\n",
            "Connecting to landmark.cs.cornell.edu (landmark.cs.cornell.edu)|128.253.51.24|:80... connected.\n",
            "HTTP request sent, awaiting response... 200 OK\n",
            "Length: 1082266624 (1.0G) [application/x-tar]\n",
            "Saving to: ‘images.Tower_of_London.tar’\n",
            "\n",
            "images.Tower_of_Lon 100%[===================>]   1.01G  40.9MB/s    in 27s     \n",
            "\n",
            "2019-11-22 19:21:43 (38.0 MB/s) - ‘images.Tower_of_London.tar’ saved [1082266624/1082266624]\n",
            "\n",
            "--2019-11-22 19:21:44--  http://landmark.cs.cornell.edu/projects/1dsfm/images.Trafalgar.tar\n",
            "Resolving landmark.cs.cornell.edu (landmark.cs.cornell.edu)... 128.253.51.24\n",
            "Connecting to landmark.cs.cornell.edu (landmark.cs.cornell.edu)|128.253.51.24|:80... connected.\n",
            "HTTP request sent, awaiting response... 200 OK\n",
            "Length: 9108310528 (8.5G) [application/x-tar]\n",
            "Saving to: ‘images.Trafalgar.tar’\n",
            "\n",
            "images.Trafalgar.ta 100%[===================>]   8.48G  41.8MB/s    in 3m 32s  \n",
            "\n",
            "2019-11-22 19:25:16 (41.0 MB/s) - ‘images.Trafalgar.tar’ saved [9108310528/9108310528]\n",
            "\n",
            "--2019-11-22 19:25:17--  http://landmark.cs.cornell.edu/projects/1dsfm/images.Union_Square.tar\n",
            "Resolving landmark.cs.cornell.edu (landmark.cs.cornell.edu)... 128.253.51.24\n",
            "Connecting to landmark.cs.cornell.edu (landmark.cs.cornell.edu)|128.253.51.24|:80... connected.\n",
            "HTTP request sent, awaiting response... 200 OK\n",
            "Length: 3795972096 (3.5G) [application/x-tar]\n",
            "Saving to: ‘images.Union_Square.tar’\n",
            "\n",
            "images.Union_Square 100%[===================>]   3.54G  38.5MB/s    in 96s     \n",
            "\n",
            "2019-11-22 19:26:53 (37.5 MB/s) - ‘images.Union_Square.tar’ saved [3795972096/3795972096]\n",
            "\n",
            "--2019-11-22 19:26:54--  http://landmark.cs.cornell.edu/projects/1dsfm/images.Vienna_Cathedral.tar\n",
            "Resolving landmark.cs.cornell.edu (landmark.cs.cornell.edu)... 128.253.51.24\n",
            "Connecting to landmark.cs.cornell.edu (landmark.cs.cornell.edu)|128.253.51.24|:80... connected.\n",
            "HTTP request sent, awaiting response... 200 OK\n",
            "Length: 3454038528 (3.2G) [application/x-tar]\n",
            "Saving to: ‘images.Vienna_Cathedral.tar’\n",
            "\n",
            "images.Vienna_Cathe 100%[===================>]   3.22G  41.4MB/s    in 81s     \n",
            "\n",
            "2019-11-22 19:28:16 (40.5 MB/s) - ‘images.Vienna_Cathedral.tar’ saved [3454038528/3454038528]\n",
            "\n",
            "--2019-11-22 19:28:17--  http://landmark.cs.cornell.edu/projects/1dsfm/images.Yorkminster.tar\n",
            "Resolving landmark.cs.cornell.edu (landmark.cs.cornell.edu)... 128.253.51.24\n",
            "Connecting to landmark.cs.cornell.edu (landmark.cs.cornell.edu)|128.253.51.24|:80... connected.\n",
            "HTTP request sent, awaiting response... 200 OK\n",
            "Length: 2298624000 (2.1G) [application/x-tar]\n",
            "Saving to: ‘images.Yorkminster.tar’\n",
            "\n",
            "images.Yorkminster. 100%[===================>]   2.14G  41.7MB/s    in 55s     \n",
            "\n",
            "2019-11-22 19:29:11 (40.1 MB/s) - ‘images.Yorkminster.tar’ saved [2298624000/2298624000]\n",
            "\n",
            "--2019-11-22 19:29:12--  http://landmark.cs.cornell.edu/projects/1dsfm/images.Gendarmenmarkt.tar\n",
            "Resolving landmark.cs.cornell.edu (landmark.cs.cornell.edu)... 128.253.51.24\n",
            "Connecting to landmark.cs.cornell.edu (landmark.cs.cornell.edu)|128.253.51.24|:80... connected.\n",
            "HTTP request sent, awaiting response... 200 OK\n",
            "Length: 1030195200 (982M) [application/x-tar]\n",
            "Saving to: ‘images.Gendarmenmarkt.tar’\n",
            "\n",
            "images.Gendarmenmar 100%[===================>] 982.47M  41.2MB/s    in 26s     \n",
            "\n",
            "2019-11-22 19:29:38 (38.0 MB/s) - ‘images.Gendarmenmarkt.tar’ saved [1030195200/1030195200]\n",
            "\n"
          ],
          "name": "stdout"
        }
      ]
    },
    {
      "cell_type": "markdown",
      "metadata": {
        "id": "mSrqSLjZ9kXZ",
        "colab_type": "text"
      },
      "source": [
        "# Unzipping Training Data"
      ]
    },
    {
      "cell_type": "code",
      "metadata": {
        "id": "brllok93Ht7H",
        "colab_type": "code",
        "outputId": "31da1ff8-d6e8-4f0c-c930-8329581e61a5",
        "colab": {
          "base_uri": "https://localhost:8080/",
          "height": 52
        }
      },
      "source": [
        "%time\n",
        "get_ipython().system_raw(\"unrar x 5317945\")\n",
        "get_ipython().system_raw(\"unrar x 5317948\")\n",
        "get_ipython().system_raw(\"unrar x 5317951\")\n",
        "get_ipython().system_raw(\"unrar x 5317966\")"
      ],
      "execution_count": 0,
      "outputs": [
        {
          "output_type": "stream",
          "text": [
            "CPU times: user 2 µs, sys: 0 ns, total: 2 µs\n",
            "Wall time: 7.87 µs\n"
          ],
          "name": "stdout"
        }
      ]
    },
    {
      "cell_type": "code",
      "metadata": {
        "id": "qo8jbGdDbgO0",
        "colab_type": "code",
        "outputId": "aca6b852-b070-4c69-b9a4-70499f012cce",
        "colab": {
          "base_uri": "https://localhost:8080/",
          "height": 52
        }
      },
      "source": [
        "%time\n",
        "get_ipython().system_raw(\"tar xvf images.Tower_of_London.tar\")\n",
        "get_ipython().system_raw(\"tar xvf images.Ellis_Island.tar\")\n",
        "get_ipython().system_raw(\"tar xvf images.Roman_Forum.tar\")\n",
        "get_ipython().system_raw(\"tar xvf images.Vienna_Cathedral.tar\")\n",
        "get_ipython().system_raw(\"tar xvf images.Yorkminster.tar\")\n",
        "get_ipython().system_raw(\"tar xvf images.Trafalgar.tar\")\n",
        "get_ipython().system_raw(\"tar xvf images.Piccadilly.tar\")\n",
        "get_ipython().system_raw(\"tar xvf images.Union_Square.tar\")\n",
        "get_ipython().system_raw(\"tar xvf images.Montreal_Notre_Dame.tar\")\n",
        "get_ipython().system_raw(\"tar xvf images.NYC_Library.tar\")\n",
        "get_ipython().system_raw(\"tar xvf images.Madrid_Metropolis.tar\")\n",
        "get_ipython().system_raw(\"tar xvf images.Alamo.tar\")\n",
        "get_ipython().system_raw(\"tar xvf images.Gendarmenmarkt.tar\")\n",
        "get_ipython().system_raw(\"tar xvf images.Piazza_del_Popolo.tar\")"
      ],
      "execution_count": 0,
      "outputs": [
        {
          "output_type": "stream",
          "text": [
            "CPU times: user 5 µs, sys: 1 µs, total: 6 µs\n",
            "Wall time: 11.4 µs\n"
          ],
          "name": "stdout"
        }
      ]
    },
    {
      "cell_type": "markdown",
      "metadata": {
        "id": "sDh54BfI9SXr",
        "colab_type": "text"
      },
      "source": [
        "# Database Connection"
      ]
    },
    {
      "cell_type": "code",
      "metadata": {
        "id": "wZmkFSmHABw1",
        "colab_type": "code",
        "outputId": "d914f0e6-c016-421d-9880-43c7c66b568e",
        "colab": {
          "base_uri": "https://localhost:8080/",
          "height": 52
        }
      },
      "source": [
        "%time\n",
        "cnx = {'host':'sd2.c9nvxjjovvt6.us-east-1.rds.amazonaws.com','username':'admin','pwd':'bgAHqMhOGFcNOVRmvT7n','db':'Images'}\n",
        "connection = pymysql.connect(cnx['host'], cnx['username'], cnx['pwd'], cnx['db'])\n",
        "query = \"SELECT Images.image_id, Images.image_left, round(Focal_Lengths.value) FROM Images INNER JOIN Focal_Lengths ON Images.image_id = Focal_Lengths.image_id;\"\n",
        "image_table_1 = pd.read_sql(query, connection)\n",
        "image_table_1 = image_table_1.rename(columns={'round(Focal_Lengths.value)': 'focal_length'})\n",
        "query = \"SELECT Sensor_Widths.image_id, round(Sensor_Widths.value) FROM Sensor_Widths\"\n",
        "image_table_2 = pd.read_sql(query, connection)\n",
        "image_table_2 = image_table_2.rename(columns={'round(Sensor_Widths.value)': 'sensor_width'})\n",
        "query = \"SELECT Sensor_Heights.image_id, round(Sensor_Heights.value) FROM Sensor_Heights\"\n",
        "image_table_3 = pd.read_sql(query, connection)\n",
        "image_table_3 = image_table_3.rename(columns={'round(Sensor_Heights.value)': 'sensor_height'})\n",
        "image_table = image_table_1.merge(image_table_2, how='inner', on='image_id').reset_index(drop=True)\n",
        "image_table = image_table.merge(image_table_3, how='inner', on='image_id').reset_index(drop=True)"
      ],
      "execution_count": 0,
      "outputs": [
        {
          "output_type": "stream",
          "text": [
            "CPU times: user 6 µs, sys: 2 µs, total: 8 µs\n",
            "Wall time: 11.2 µs\n"
          ],
          "name": "stdout"
        }
      ]
    },
    {
      "cell_type": "markdown",
      "metadata": {
        "id": "_JJdTCKB90SM",
        "colab_type": "text"
      },
      "source": [
        "# Organizing Data"
      ]
    },
    {
      "cell_type": "code",
      "metadata": {
        "id": "dRHKz92XWzey",
        "colab_type": "code",
        "outputId": "8f7633bf-c0b2-40fd-ab6d-c088766af21f",
        "colab": {
          "base_uri": "https://localhost:8080/",
          "height": 52
        }
      },
      "source": [
        "%time\n",
        "path = (os.getcwd())\n",
        "images = []\n",
        "image_path_dict = {}\n",
        "# r=root, d=directories, f = files\n",
        "for r, d, f in os.walk(path):\n",
        "  for file in f:\n",
        "    if '.jpg' in file:\n",
        "      images.append(file)\n",
        "      image_path_dict[file] = r+'/'+file"
      ],
      "execution_count": 0,
      "outputs": [
        {
          "output_type": "stream",
          "text": [
            "CPU times: user 2 µs, sys: 1e+03 ns, total: 3 µs\n",
            "Wall time: 17.4 µs\n"
          ],
          "name": "stdout"
        }
      ]
    },
    {
      "cell_type": "code",
      "metadata": {
        "id": "MGrThfxymVer",
        "colab_type": "code",
        "outputId": "ae1503af-18b0-4067-e531-22b6ee81efe8",
        "colab": {
          "base_uri": "https://localhost:8080/",
          "height": 35
        }
      },
      "source": [
        "len(image_path_dict)"
      ],
      "execution_count": 0,
      "outputs": [
        {
          "output_type": "execute_result",
          "data": {
            "text/plain": [
              "290766"
            ]
          },
          "metadata": {
            "tags": []
          },
          "execution_count": 7
        }
      ]
    },
    {
      "cell_type": "code",
      "metadata": {
        "id": "sXBXXWlfZOfW",
        "colab_type": "code",
        "outputId": "be4617b4-537f-421a-d3de-7476a03d720c",
        "colab": {
          "base_uri": "https://localhost:8080/",
          "height": 52
        }
      },
      "source": [
        "%time\n",
        "image_table_1dsfm = image_table[image_table['image_left'].isin(images)]"
      ],
      "execution_count": 0,
      "outputs": [
        {
          "output_type": "stream",
          "text": [
            "CPU times: user 3 µs, sys: 0 ns, total: 3 µs\n",
            "Wall time: 8.34 µs\n"
          ],
          "name": "stdout"
        }
      ]
    },
    {
      "cell_type": "code",
      "metadata": {
        "id": "E2fj1f1SfGqo",
        "colab_type": "code",
        "outputId": "0098f654-8159-48a7-aaeb-46f33cdf0286",
        "colab": {
          "base_uri": "https://localhost:8080/",
          "height": 35
        }
      },
      "source": [
        "len(image_table_1dsfm)"
      ],
      "execution_count": 0,
      "outputs": [
        {
          "output_type": "execute_result",
          "data": {
            "text/plain": [
              "99804"
            ]
          },
          "metadata": {
            "tags": []
          },
          "execution_count": 9
        }
      ]
    },
    {
      "cell_type": "code",
      "metadata": {
        "id": "IAG9eXkjqzFJ",
        "colab_type": "code",
        "outputId": "dd0cd2cd-1a89-4e87-ad82-ff9d32ca7a54",
        "colab": {
          "base_uri": "https://localhost:8080/",
          "height": 52
        }
      },
      "source": [
        "%time\n",
        "image_table_1dsfm['image_path'] = image_table_1dsfm['image_left'].map(lambda x: image_path_dict[x])"
      ],
      "execution_count": 0,
      "outputs": [
        {
          "output_type": "stream",
          "text": [
            "CPU times: user 2 µs, sys: 1e+03 ns, total: 3 µs\n",
            "Wall time: 5.96 µs\n"
          ],
          "name": "stdout"
        }
      ]
    },
    {
      "cell_type": "code",
      "metadata": {
        "id": "9E_JooX9vPHm",
        "colab_type": "code",
        "colab": {}
      },
      "source": [
        "def calculate_angle_of_view(row):\n",
        "  img = load_img(row['image_path'])\n",
        "  width = img.width\n",
        "  height = img.height\n",
        "  focal_length = row['focal_length']\n",
        "  if width >= height:\n",
        "    sensor_width = row['sensor_width']\n",
        "  else:\n",
        "    sensor_width = row['sensor_height']\n",
        "  angle_of_view = 2 * np.arctan(sensor_width/(2*focal_length))\n",
        "  row['angle_of_view'] = round((angle_of_view) * (180/np.pi))\n",
        "  return row"
      ],
      "execution_count": 0,
      "outputs": []
    },
    {
      "cell_type": "code",
      "metadata": {
        "id": "B6bHsdFmyZDw",
        "colab_type": "code",
        "colab": {}
      },
      "source": [
        "image_table_1dsfm = image_table_1dsfm.apply(calculate_angle_of_view, axis=1)"
      ],
      "execution_count": 0,
      "outputs": []
    },
    {
      "cell_type": "code",
      "metadata": {
        "id": "onBIBSqN2mYV",
        "colab_type": "code",
        "outputId": "1fb60b31-f8b9-4ddc-dbc5-e04554e5b8d2",
        "colab": {
          "base_uri": "https://localhost:8080/",
          "height": 243
        }
      },
      "source": [
        "image_table_1dsfm['angle_of_view'].value_counts().head(12)"
      ],
      "execution_count": 0,
      "outputs": [
        {
          "output_type": "execute_result",
          "data": {
            "text/plain": [
              "67.0     6398\n",
              "27.0     3924\n",
              "7.0      3853\n",
              "19.0     3840\n",
              "25.0     3606\n",
              "53.0     3473\n",
              "40.0     2941\n",
              "74.0     2857\n",
              "38.0     2814\n",
              "100.0    2755\n",
              "95.0     2683\n",
              "90.0     2498\n",
              "Name: angle_of_view, dtype: int64"
            ]
          },
          "metadata": {
            "tags": []
          },
          "execution_count": 13
        }
      ]
    },
    {
      "cell_type": "code",
      "metadata": {
        "id": "nxeGSqfDoCqY",
        "colab_type": "code",
        "colab": {}
      },
      "source": [
        "angle_count = image_table_1dsfm['angle_of_view'].value_counts().sort_index().to_dict()"
      ],
      "execution_count": 0,
      "outputs": []
    },
    {
      "cell_type": "code",
      "metadata": {
        "id": "kmI_oi25BBg1",
        "colab_type": "code",
        "colab": {}
      },
      "source": [
        "threshold = 2750\n",
        "target_count = {}\n",
        "for key in angle_count:\n",
        "  if angle_count[key] >= threshold:\n",
        "    target_count[key] = angle_count[key]"
      ],
      "execution_count": 0,
      "outputs": []
    },
    {
      "cell_type": "code",
      "metadata": {
        "id": "zF4xTO2XNd0t",
        "colab_type": "code",
        "outputId": "09fb2f70-e3b4-482c-d0e2-7e40bf8335e0",
        "colab": {
          "base_uri": "https://localhost:8080/",
          "height": 191
        }
      },
      "source": [
        "target_count"
      ],
      "execution_count": 0,
      "outputs": [
        {
          "output_type": "execute_result",
          "data": {
            "text/plain": [
              "{7.0: 3853,\n",
              " 19.0: 3840,\n",
              " 25.0: 3606,\n",
              " 27.0: 3924,\n",
              " 38.0: 2814,\n",
              " 40.0: 2941,\n",
              " 53.0: 3473,\n",
              " 67.0: 6398,\n",
              " 74.0: 2857,\n",
              " 100.0: 2755}"
            ]
          },
          "metadata": {
            "tags": []
          },
          "execution_count": 16
        }
      ]
    },
    {
      "cell_type": "code",
      "metadata": {
        "id": "cZDrZGVxgkYC",
        "colab_type": "code",
        "outputId": "5c0fb270-f21b-4e8f-fc04-1f15a0362000",
        "colab": {
          "base_uri": "https://localhost:8080/",
          "height": 52
        }
      },
      "source": [
        "%time\n",
        "image_table_1dsfm_sample = image_table_1dsfm[image_table_1dsfm['angle_of_view'].isin(target_count.keys())]\n",
        "# image_table_1dsfm_sample = image_table_1dsfm_sample[image_table_1dsfm_sample['angle_of_view'].isin([float(i) for i in range(19, 90)])]"
      ],
      "execution_count": 0,
      "outputs": [
        {
          "output_type": "stream",
          "text": [
            "CPU times: user 3 µs, sys: 0 ns, total: 3 µs\n",
            "Wall time: 5.48 µs\n"
          ],
          "name": "stdout"
        }
      ]
    },
    {
      "cell_type": "code",
      "metadata": {
        "id": "Oa_hQtuBeFRE",
        "colab_type": "code",
        "outputId": "d22da2cc-ad3c-48ef-c128-23019645625e",
        "colab": {
          "base_uri": "https://localhost:8080/",
          "height": 35
        }
      },
      "source": [
        "image_table_1dsfm_sample['angle_of_view'].nunique()"
      ],
      "execution_count": 0,
      "outputs": [
        {
          "output_type": "execute_result",
          "data": {
            "text/plain": [
              "10"
            ]
          },
          "metadata": {
            "tags": []
          },
          "execution_count": 18
        }
      ]
    },
    {
      "cell_type": "code",
      "metadata": {
        "id": "i69gZpw6jfe4",
        "colab_type": "code",
        "outputId": "4d50a770-cccb-4cd5-d7b6-7ddd9d4890ff",
        "colab": {
          "base_uri": "https://localhost:8080/",
          "height": 52
        }
      },
      "source": [
        "%time\n",
        "data_labels = pd.DataFrame()\n",
        "for focal_length, group in image_table_1dsfm_sample.groupby('angle_of_view'):\n",
        "  data_labels = data_labels.append(group.sample(800))\n",
        "data_labels = data_labels.sample(frac=1).reset_index(drop=True)"
      ],
      "execution_count": 0,
      "outputs": [
        {
          "output_type": "stream",
          "text": [
            "CPU times: user 4 µs, sys: 1 µs, total: 5 µs\n",
            "Wall time: 8.82 µs\n"
          ],
          "name": "stdout"
        }
      ]
    },
    {
      "cell_type": "code",
      "metadata": {
        "id": "0WS-5QUGFb8P",
        "colab_type": "code",
        "outputId": "3c7f8617-0f5f-4db5-cd52-869b8f904391",
        "colab": {
          "base_uri": "https://localhost:8080/",
          "height": 35
        }
      },
      "source": [
        "target_labels = data_labels['angle_of_view']\n",
        "len(set(target_labels))"
      ],
      "execution_count": 0,
      "outputs": [
        {
          "output_type": "execute_result",
          "data": {
            "text/plain": [
              "10"
            ]
          },
          "metadata": {
            "tags": []
          },
          "execution_count": 20
        }
      ]
    },
    {
      "cell_type": "code",
      "metadata": {
        "id": "N79WhI_QFySk",
        "colab_type": "code",
        "outputId": "8a5e7885-12c8-491c-d331-33021300f3bc",
        "colab": {
          "base_uri": "https://localhost:8080/",
          "height": 69
        }
      },
      "source": [
        "labels_ohe_names = pd.get_dummies(target_labels, sparse=True)\n",
        "labels_ohe = np.asarray(labels_ohe_names)\n",
        "print(labels_ohe.shape)\n",
        "print(labels_ohe[:2])"
      ],
      "execution_count": 0,
      "outputs": [
        {
          "output_type": "stream",
          "text": [
            "(8000, 10)\n",
            "[[0 0 0 1 0 0 0 0 0 0]\n",
            " [0 0 0 0 0 0 0 0 1 0]]\n"
          ],
          "name": "stdout"
        }
      ]
    },
    {
      "cell_type": "code",
      "metadata": {
        "id": "nzu8wJ8xZig4",
        "colab_type": "code",
        "outputId": "5576d67a-4a25-471a-8d7a-7a23f38a08a7",
        "colab": {
          "base_uri": "https://localhost:8080/",
          "height": 52
        }
      },
      "source": [
        "%time\n",
        "train_data = []\n",
        "for img in data_labels['image_path'].values.tolist():\n",
        "  img = load_img(img)\n",
        "  width = img.width\n",
        "  height = img.height\n",
        "  crop = min(width, height)\n",
        "  img = img_to_array(img)\n",
        "  img = img[(height//2)-(crop//2):(height//2)+(crop//2), (width//2)-(crop//2):(width//2)+(crop//2)]\n",
        "  img = array_to_img(img)\n",
        "  img = img.resize(size=(299, 299))\n",
        "  img = img_to_array(img)\n",
        "  train_data.append(img)\n",
        "train_data = np.array(train_data).astype('float32')"
      ],
      "execution_count": 0,
      "outputs": [
        {
          "output_type": "stream",
          "text": [
            "CPU times: user 2 µs, sys: 0 ns, total: 2 µs\n",
            "Wall time: 5.48 µs\n"
          ],
          "name": "stdout"
        }
      ]
    },
    {
      "cell_type": "code",
      "metadata": {
        "id": "PTh_khjOeIOy",
        "colab_type": "code",
        "outputId": "9f11658a-44ab-4a4e-e26e-ed7bec3ba536",
        "colab": {
          "base_uri": "https://localhost:8080/",
          "height": 35
        }
      },
      "source": [
        "train_data.shape"
      ],
      "execution_count": 0,
      "outputs": [
        {
          "output_type": "execute_result",
          "data": {
            "text/plain": [
              "(8000, 299, 299, 3)"
            ]
          },
          "metadata": {
            "tags": []
          },
          "execution_count": 23
        }
      ]
    },
    {
      "cell_type": "code",
      "metadata": {
        "id": "Sns4Y93NeIMw",
        "colab_type": "code",
        "colab": {}
      },
      "source": [
        "x_train, x_test, y_train, y_test = train_test_split(train_data, \n",
        "                                                    target_labels, \n",
        "                                                    test_size=0.3, \n",
        "                                                    stratify=np.array(target_labels), \n",
        "                                                    random_state=42)"
      ],
      "execution_count": 0,
      "outputs": []
    },
    {
      "cell_type": "code",
      "metadata": {
        "id": "rUVgVJ19eICw",
        "colab_type": "code",
        "outputId": "cb32e482-66d9-4de2-95b6-da875c06f53b",
        "colab": {
          "base_uri": "https://localhost:8080/",
          "height": 35
        }
      },
      "source": [
        "x_train.shape, x_test.shape"
      ],
      "execution_count": 0,
      "outputs": [
        {
          "output_type": "execute_result",
          "data": {
            "text/plain": [
              "((5600, 299, 299, 3), (2400, 299, 299, 3))"
            ]
          },
          "metadata": {
            "tags": []
          },
          "execution_count": 25
        }
      ]
    },
    {
      "cell_type": "code",
      "metadata": {
        "id": "SizKH9y9eHyc",
        "colab_type": "code",
        "colab": {}
      },
      "source": [
        "x_train, x_val, y_train, y_val = train_test_split(x_train, \n",
        "                                                    y_train, \n",
        "                                                    test_size=0.15, \n",
        "                                                    stratify=np.array(y_train), \n",
        "                                                    random_state=42)"
      ],
      "execution_count": 0,
      "outputs": []
    },
    {
      "cell_type": "code",
      "metadata": {
        "id": "FreHA-QMfB-V",
        "colab_type": "code",
        "outputId": "4b599494-b64c-4316-ae1f-9c18a909fddf",
        "colab": {
          "base_uri": "https://localhost:8080/",
          "height": 35
        }
      },
      "source": [
        "x_train.shape, x_val.shape"
      ],
      "execution_count": 0,
      "outputs": [
        {
          "output_type": "execute_result",
          "data": {
            "text/plain": [
              "((4760, 299, 299, 3), (840, 299, 299, 3))"
            ]
          },
          "metadata": {
            "tags": []
          },
          "execution_count": 27
        }
      ]
    },
    {
      "cell_type": "code",
      "metadata": {
        "id": "wh1UIHl0fB4I",
        "colab_type": "code",
        "outputId": "7bf6fda1-01f9-46c9-85c5-51742ace417a",
        "colab": {
          "base_uri": "https://localhost:8080/",
          "height": 35
        }
      },
      "source": [
        "y_train_ohe = pd.get_dummies(y_train.reset_index(drop=True)).as_matrix()\n",
        "y_val_ohe = pd.get_dummies(y_val.reset_index(drop=True)).as_matrix()\n",
        "y_test_ohe = pd.get_dummies(y_test.reset_index(drop=True)).as_matrix()\n",
        "\n",
        "y_train_ohe.shape, y_test_ohe.shape, y_val_ohe.shape"
      ],
      "execution_count": 0,
      "outputs": [
        {
          "output_type": "execute_result",
          "data": {
            "text/plain": [
              "((4760, 10), (2400, 10), (840, 10))"
            ]
          },
          "metadata": {
            "tags": []
          },
          "execution_count": 28
        }
      ]
    },
    {
      "cell_type": "code",
      "metadata": {
        "id": "mZrqzovFfBp6",
        "colab_type": "code",
        "colab": {}
      },
      "source": [
        "BATCH_SIZE = 32"
      ],
      "execution_count": 0,
      "outputs": []
    },
    {
      "cell_type": "code",
      "metadata": {
        "id": "H3MPfIBEf6vi",
        "colab_type": "code",
        "colab": {}
      },
      "source": [
        "# Create train generator.\n",
        "train_datagen = ImageDataGenerator(rescale=1./255,\n",
        "                                   horizontal_flip = 'true')\n",
        "train_generator = train_datagen.flow(x_train, y_train_ohe, shuffle=False, batch_size=BATCH_SIZE, seed=1)"
      ],
      "execution_count": 0,
      "outputs": []
    },
    {
      "cell_type": "code",
      "metadata": {
        "id": "8X57ltYmf6tM",
        "colab_type": "code",
        "colab": {}
      },
      "source": [
        "# Create validation generator\n",
        "val_datagen = ImageDataGenerator(rescale = 1./255)\n",
        "val_generator = train_datagen.flow(x_val, y_val_ohe, shuffle=False, batch_size=BATCH_SIZE, seed=1)"
      ],
      "execution_count": 0,
      "outputs": []
    },
    {
      "cell_type": "code",
      "metadata": {
        "id": "v7BqlUHdf6rG",
        "colab_type": "code",
        "outputId": "2902c6b9-943a-40b1-c59a-d2599a6489ae",
        "colab": {
          "base_uri": "https://localhost:8080/",
          "height": 523
        }
      },
      "source": [
        "base_inception = InceptionV3(weights='imagenet', include_top = False, input_shape=(299, 299, 3))"
      ],
      "execution_count": 0,
      "outputs": [
        {
          "output_type": "stream",
          "text": [
            "WARNING:tensorflow:From /usr/local/lib/python3.6/dist-packages/keras/backend/tensorflow_backend.py:66: The name tf.get_default_graph is deprecated. Please use tf.compat.v1.get_default_graph instead.\n",
            "\n",
            "WARNING:tensorflow:From /usr/local/lib/python3.6/dist-packages/keras/backend/tensorflow_backend.py:541: The name tf.placeholder is deprecated. Please use tf.compat.v1.placeholder instead.\n",
            "\n",
            "WARNING:tensorflow:From /usr/local/lib/python3.6/dist-packages/keras/backend/tensorflow_backend.py:4432: The name tf.random_uniform is deprecated. Please use tf.random.uniform instead.\n",
            "\n",
            "WARNING:tensorflow:From /usr/local/lib/python3.6/dist-packages/keras/backend/tensorflow_backend.py:190: The name tf.get_default_session is deprecated. Please use tf.compat.v1.get_default_session instead.\n",
            "\n",
            "WARNING:tensorflow:From /usr/local/lib/python3.6/dist-packages/keras/backend/tensorflow_backend.py:197: The name tf.ConfigProto is deprecated. Please use tf.compat.v1.ConfigProto instead.\n",
            "\n",
            "WARNING:tensorflow:From /usr/local/lib/python3.6/dist-packages/keras/backend/tensorflow_backend.py:203: The name tf.Session is deprecated. Please use tf.compat.v1.Session instead.\n",
            "\n",
            "WARNING:tensorflow:From /usr/local/lib/python3.6/dist-packages/keras/backend/tensorflow_backend.py:207: The name tf.global_variables is deprecated. Please use tf.compat.v1.global_variables instead.\n",
            "\n",
            "WARNING:tensorflow:From /usr/local/lib/python3.6/dist-packages/keras/backend/tensorflow_backend.py:216: The name tf.is_variable_initialized is deprecated. Please use tf.compat.v1.is_variable_initialized instead.\n",
            "\n",
            "WARNING:tensorflow:From /usr/local/lib/python3.6/dist-packages/keras/backend/tensorflow_backend.py:223: The name tf.variables_initializer is deprecated. Please use tf.compat.v1.variables_initializer instead.\n",
            "\n",
            "WARNING:tensorflow:From /usr/local/lib/python3.6/dist-packages/keras/backend/tensorflow_backend.py:2041: The name tf.nn.fused_batch_norm is deprecated. Please use tf.compat.v1.nn.fused_batch_norm instead.\n",
            "\n",
            "WARNING:tensorflow:From /usr/local/lib/python3.6/dist-packages/keras/backend/tensorflow_backend.py:148: The name tf.placeholder_with_default is deprecated. Please use tf.compat.v1.placeholder_with_default instead.\n",
            "\n",
            "WARNING:tensorflow:From /usr/local/lib/python3.6/dist-packages/keras/backend/tensorflow_backend.py:4267: The name tf.nn.max_pool is deprecated. Please use tf.nn.max_pool2d instead.\n",
            "\n",
            "WARNING:tensorflow:From /usr/local/lib/python3.6/dist-packages/keras/backend/tensorflow_backend.py:4271: The name tf.nn.avg_pool is deprecated. Please use tf.nn.avg_pool2d instead.\n",
            "\n",
            "Downloading data from https://github.com/fchollet/deep-learning-models/releases/download/v0.5/inception_v3_weights_tf_dim_ordering_tf_kernels_notop.h5\n",
            "87916544/87910968 [==============================] - 6s 0us/step\n"
          ],
          "name": "stdout"
        }
      ]
    },
    {
      "cell_type": "code",
      "metadata": {
        "id": "5wIqvHlOf6os",
        "colab_type": "code",
        "colab": {}
      },
      "source": [
        "# Add a global spatial average pooling layer\n",
        "out = base_inception.output\n",
        "out = GlobalAveragePooling2D()(out)\n",
        "out = Dense(512, activation='relu')(out)\n",
        "out = Dense(512, activation='relu')(out)\n",
        "total_classes = y_train_ohe.shape[1]\n",
        "predictions = Dense(total_classes, activation='softmax')(out)"
      ],
      "execution_count": 0,
      "outputs": []
    },
    {
      "cell_type": "code",
      "metadata": {
        "colab_type": "code",
        "id": "ql4tueiWrMdx",
        "outputId": "6dd27dc1-770b-4c7b-9767-549b913d2cc4",
        "colab": {
          "base_uri": "https://localhost:8080/",
          "height": 107
        }
      },
      "source": [
        "model = Model(inputs=base_inception.input, outputs=predictions)\n",
        "\n",
        "# only if we want to freeze layers\n",
        "for layer in base_inception.layers:\n",
        "    layer.trainable = False\n",
        "    \n",
        "# Compile \n",
        "model.compile(Adam(lr=.0001), loss='categorical_crossentropy', metrics=['accuracy'])\n",
        "\n",
        "# model.summary()"
      ],
      "execution_count": 0,
      "outputs": [
        {
          "output_type": "stream",
          "text": [
            "WARNING:tensorflow:From /usr/local/lib/python3.6/dist-packages/keras/optimizers.py:793: The name tf.train.Optimizer is deprecated. Please use tf.compat.v1.train.Optimizer instead.\n",
            "\n",
            "WARNING:tensorflow:From /usr/local/lib/python3.6/dist-packages/keras/backend/tensorflow_backend.py:3576: The name tf.log is deprecated. Please use tf.math.log instead.\n",
            "\n"
          ],
          "name": "stdout"
        }
      ]
    },
    {
      "cell_type": "code",
      "metadata": {
        "id": "OfgFlc1bf6WZ",
        "colab_type": "code",
        "outputId": "9525177a-42d9-4f18-fb96-e9423d905bd3",
        "colab": {
          "base_uri": "https://localhost:8080/",
          "height": 1000
        }
      },
      "source": [
        "# Train the model\n",
        "batch_size = BATCH_SIZE\n",
        "train_steps_per_epoch = x_train.shape[0] // batch_size\n",
        "val_steps_per_epoch = x_val.shape[0] // batch_size\n",
        "\n",
        "history = model.fit_generator(train_generator,\n",
        "                              steps_per_epoch=train_steps_per_epoch,\n",
        "                              validation_data=val_generator,\n",
        "                              validation_steps=val_steps_per_epoch,\n",
        "                              epochs=30,\n",
        "                              verbose=1)"
      ],
      "execution_count": 0,
      "outputs": [
        {
          "output_type": "stream",
          "text": [
            "WARNING:tensorflow:From /usr/local/lib/python3.6/dist-packages/tensorflow_core/python/ops/math_grad.py:1424: where (from tensorflow.python.ops.array_ops) is deprecated and will be removed in a future version.\n",
            "Instructions for updating:\n",
            "Use tf.where in 2.0, which has the same broadcast rule as np.where\n",
            "WARNING:tensorflow:From /usr/local/lib/python3.6/dist-packages/keras/backend/tensorflow_backend.py:1033: The name tf.assign_add is deprecated. Please use tf.compat.v1.assign_add instead.\n",
            "\n",
            "WARNING:tensorflow:From /usr/local/lib/python3.6/dist-packages/keras/backend/tensorflow_backend.py:1020: The name tf.assign is deprecated. Please use tf.compat.v1.assign instead.\n",
            "\n",
            "Epoch 1/30\n",
            "111/111 [==============================] - 20s 179ms/step - loss: 2.4917 - acc: 0.0972 - val_loss: 2.4832 - val_acc: 0.1234\n",
            "Epoch 2/30\n",
            "111/111 [==============================] - 12s 105ms/step - loss: 2.3814 - acc: 0.1547 - val_loss: 2.4449 - val_acc: 0.1472\n",
            "Epoch 3/30\n",
            "111/111 [==============================] - 11s 101ms/step - loss: 2.2971 - acc: 0.2116 - val_loss: 2.4555 - val_acc: 0.1355\n",
            "Epoch 4/30\n",
            "111/111 [==============================] - 11s 101ms/step - loss: 2.2048 - acc: 0.2618 - val_loss: 2.5143 - val_acc: 0.1455\n",
            "Epoch 5/30\n",
            "111/111 [==============================] - 11s 101ms/step - loss: 2.1120 - acc: 0.2969 - val_loss: 2.4843 - val_acc: 0.1622\n",
            "Epoch 6/30\n",
            "111/111 [==============================] - 11s 100ms/step - loss: 2.0250 - acc: 0.3338 - val_loss: 2.4681 - val_acc: 0.1622\n",
            "Epoch 7/30\n",
            "111/111 [==============================] - 11s 101ms/step - loss: 1.9272 - acc: 0.3697 - val_loss: 2.5187 - val_acc: 0.1438\n",
            "Epoch 8/30\n",
            "111/111 [==============================] - 11s 101ms/step - loss: 1.8450 - acc: 0.4112 - val_loss: 2.5679 - val_acc: 0.1572\n",
            "Epoch 9/30\n",
            "111/111 [==============================] - 11s 101ms/step - loss: 1.7305 - acc: 0.4633 - val_loss: 2.5824 - val_acc: 0.1288\n",
            "Epoch 10/30\n",
            "111/111 [==============================] - 11s 101ms/step - loss: 1.6411 - acc: 0.4968 - val_loss: 2.6422 - val_acc: 0.1505\n",
            "Epoch 11/30\n",
            "111/111 [==============================] - 11s 101ms/step - loss: 1.5426 - acc: 0.5371 - val_loss: 2.7054 - val_acc: 0.1455\n",
            "Epoch 12/30\n",
            "111/111 [==============================] - 11s 101ms/step - loss: 1.4566 - acc: 0.5580 - val_loss: 2.7499 - val_acc: 0.1522\n",
            "Epoch 13/30\n",
            "111/111 [==============================] - 11s 101ms/step - loss: 1.3363 - acc: 0.6086 - val_loss: 2.8813 - val_acc: 0.1405\n",
            "Epoch 14/30\n",
            "111/111 [==============================] - 11s 101ms/step - loss: 1.2358 - acc: 0.6568 - val_loss: 2.8837 - val_acc: 0.1538\n",
            "Epoch 15/30\n",
            "111/111 [==============================] - 11s 101ms/step - loss: 1.1504 - acc: 0.6797 - val_loss: 2.9919 - val_acc: 0.1455\n",
            "Epoch 16/30\n",
            "111/111 [==============================] - 11s 101ms/step - loss: 1.0245 - acc: 0.7394 - val_loss: 3.0258 - val_acc: 0.1472\n",
            "Epoch 17/30\n",
            "111/111 [==============================] - 11s 100ms/step - loss: 0.9381 - acc: 0.7635 - val_loss: 3.1544 - val_acc: 0.1488\n",
            "Epoch 18/30\n",
            "111/111 [==============================] - 11s 100ms/step - loss: 0.8494 - acc: 0.8007 - val_loss: 3.1737 - val_acc: 0.1656\n",
            "Epoch 19/30\n",
            "111/111 [==============================] - 11s 100ms/step - loss: 0.7615 - acc: 0.8311 - val_loss: 3.2813 - val_acc: 0.1605\n",
            "Epoch 20/30\n",
            "111/111 [==============================] - 11s 100ms/step - loss: 0.6507 - acc: 0.8717 - val_loss: 3.2720 - val_acc: 0.1639\n",
            "Epoch 21/30\n",
            "111/111 [==============================] - 11s 100ms/step - loss: 0.5753 - acc: 0.8967 - val_loss: 3.4428 - val_acc: 0.1546\n",
            "Epoch 22/30\n",
            "111/111 [==============================] - 11s 101ms/step - loss: 0.5092 - acc: 0.9136 - val_loss: 3.4623 - val_acc: 0.1605\n",
            "Epoch 23/30\n",
            "111/111 [==============================] - 11s 101ms/step - loss: 0.4475 - acc: 0.9324 - val_loss: 3.6087 - val_acc: 0.1538\n",
            "Epoch 24/30\n",
            "111/111 [==============================] - 11s 101ms/step - loss: 0.3836 - acc: 0.9485 - val_loss: 3.5802 - val_acc: 0.1522\n",
            "Epoch 25/30\n",
            "111/111 [==============================] - 11s 101ms/step - loss: 0.3134 - acc: 0.9724 - val_loss: 3.7522 - val_acc: 0.1472\n",
            "Epoch 26/30\n",
            "111/111 [==============================] - 11s 101ms/step - loss: 0.2681 - acc: 0.9794 - val_loss: 3.7697 - val_acc: 0.1522\n",
            "Epoch 27/30\n",
            "111/111 [==============================] - 11s 101ms/step - loss: 0.2409 - acc: 0.9817 - val_loss: 3.9497 - val_acc: 0.1605\n",
            "Epoch 28/30\n",
            "111/111 [==============================] - 11s 100ms/step - loss: 0.2096 - acc: 0.9870 - val_loss: 3.9989 - val_acc: 0.1589\n",
            "Epoch 29/30\n",
            "111/111 [==============================] - 11s 101ms/step - loss: 0.1762 - acc: 0.9893 - val_loss: 4.1556 - val_acc: 0.1421\n",
            "Epoch 30/30\n",
            "111/111 [==============================] - 11s 101ms/step - loss: 0.1476 - acc: 0.9938 - val_loss: 4.3073 - val_acc: 0.1421\n"
          ],
          "name": "stdout"
        }
      ]
    },
    {
      "cell_type": "code",
      "metadata": {
        "id": "GIXeHkdRknPL",
        "colab_type": "code",
        "outputId": "3da62111-aff3-4183-e428-c3b9e33ecdc7",
        "colab": {
          "base_uri": "https://localhost:8080/",
          "height": 398
        }
      },
      "source": [
        "f, (ax1, ax2) = plt.subplots(1, 2, figsize=(15, 5))\n",
        "t = f.suptitle('Deep Neural Net Performance', fontsize=12)\n",
        "f.subplots_adjust(top=0.85, wspace=0.3)\n",
        "\n",
        "epochs = list(range(1,31))\n",
        "ax1.plot(epochs, history.history['acc'], label='Train Accuracy')\n",
        "ax1.plot(epochs, history.history['val_acc'], label='Validation Accuracy')\n",
        "ax1.set_xticks(epochs)\n",
        "ax1.set_ylabel('Accuracy Value')\n",
        "ax1.set_xlabel('Epoch')\n",
        "ax1.set_title('Accuracy')\n",
        "l1 = ax1.legend(loc=\"best\")\n",
        "\n",
        "ax2.plot(epochs, history.history['loss'], label='Train Loss')\n",
        "ax2.plot(epochs, history.history['val_loss'], label='Validation Loss')\n",
        "ax2.set_xticks(epochs)\n",
        "ax2.set_ylabel('Loss Value')\n",
        "ax2.set_xlabel('Epoch')\n",
        "ax2.set_title('Loss')\n",
        "l2 = ax2.legend(loc=\"best\")"
      ],
      "execution_count": 0,
      "outputs": [
        {
          "output_type": "display_data",
          "data": {
            "image/png": "[encoded data removed]",
            "text/plain": [
              "<Figure size 1080x360 with 2 Axes>"
            ]
          },
          "metadata": {
            "tags": []
          }
        }
      ]
    },
    {
      "cell_type": "code",
      "metadata": {
        "id": "v2U01dDWlECJ",
        "colab_type": "code",
        "colab": {}
      },
      "source": [
        "# scaling test features\n",
        "x_test /= 255."
      ],
      "execution_count": 0,
      "outputs": []
    },
    {
      "cell_type": "code",
      "metadata": {
        "id": "-eft3Be2u9n7",
        "colab_type": "code",
        "outputId": "7624f261-4c67-4c01-a341-8b219824a261",
        "colab": {
          "base_uri": "https://localhost:8080/",
          "height": 243
        }
      },
      "source": [
        "test_predictions = model.predict(x_test)\n",
        "test_predictions"
      ],
      "execution_count": 0,
      "outputs": [
        {
          "output_type": "execute_result",
          "data": {
            "text/plain": [
              "array([[4.6083357e-04, 9.3297672e-04, 1.8648691e-03, ..., 2.1851568e-02,\n",
              "        1.9793525e-02, 4.7283914e-02],\n",
              "       [8.0092447e-03, 1.4752965e-01, 3.1444186e-01, ..., 2.0592470e-02,\n",
              "        4.4129647e-02, 1.2362095e-01],\n",
              "       [9.6252137e-05, 2.1003010e-03, 3.9500499e-04, ..., 1.1252975e-01,\n",
              "        1.1612056e-03, 8.1920153e-01],\n",
              "       ...,\n",
              "       [2.1041140e-03, 2.9577112e-02, 2.3681788e-02, ..., 5.5206972e-01,\n",
              "        1.1263129e-03, 4.5336154e-04],\n",
              "       [8.9861121e-04, 4.0959124e-03, 3.4498246e-04, ..., 1.7716245e-01,\n",
              "        1.8778682e-01, 9.2172772e-02],\n",
              "       [3.6896530e-03, 8.1451654e-01, 2.2806707e-03, ..., 1.2846121e-02,\n",
              "        2.6345986e-03, 3.9018693e-04]], dtype=float32)"
            ]
          },
          "metadata": {
            "tags": []
          },
          "execution_count": 74
        }
      ]
    },
    {
      "cell_type": "code",
      "metadata": {
        "id": "HovWZ4gbvACT",
        "colab_type": "code",
        "outputId": "861034bf-a6da-4d25-ff59-f00d8d0d7143",
        "colab": {
          "base_uri": "https://localhost:8080/",
          "height": 222
        }
      },
      "source": [
        "predictions = pd.DataFrame(test_predictions, columns=labels_ohe_names.columns)\n",
        "predictions.head()"
      ],
      "execution_count": 0,
      "outputs": [
        {
          "output_type": "execute_result",
          "data": {
            "text/html": [
              "<div>\n",
              "<style scoped>\n",
              "    .dataframe tbody tr th:only-of-type {\n",
              "        vertical-align: middle;\n",
              "    }\n",
              "\n",
              "    .dataframe tbody tr th {\n",
              "        vertical-align: top;\n",
              "    }\n",
              "\n",
              "    .dataframe thead th {\n",
              "        text-align: right;\n",
              "    }\n",
              "</style>\n",
              "<table border=\"1\" class=\"dataframe\">\n",
              "  <thead>\n",
              "    <tr style=\"text-align: right;\">\n",
              "      <th></th>\n",
              "      <th>19.0</th>\n",
              "      <th>25.0</th>\n",
              "      <th>27.0</th>\n",
              "      <th>29.0</th>\n",
              "      <th>38.0</th>\n",
              "      <th>40.0</th>\n",
              "      <th>53.0</th>\n",
              "      <th>54.0</th>\n",
              "      <th>57.0</th>\n",
              "      <th>62.0</th>\n",
              "      <th>67.0</th>\n",
              "      <th>74.0</th>\n",
              "    </tr>\n",
              "  </thead>\n",
              "  <tbody>\n",
              "    <tr>\n",
              "      <th>0</th>\n",
              "      <td>0.000461</td>\n",
              "      <td>0.000933</td>\n",
              "      <td>0.001865</td>\n",
              "      <td>0.001020</td>\n",
              "      <td>0.842264</td>\n",
              "      <td>0.000181</td>\n",
              "      <td>0.055491</td>\n",
              "      <td>0.000012</td>\n",
              "      <td>0.008843</td>\n",
              "      <td>0.021852</td>\n",
              "      <td>0.019794</td>\n",
              "      <td>0.047284</td>\n",
              "    </tr>\n",
              "    <tr>\n",
              "      <th>1</th>\n",
              "      <td>0.008009</td>\n",
              "      <td>0.147530</td>\n",
              "      <td>0.314442</td>\n",
              "      <td>0.076054</td>\n",
              "      <td>0.077172</td>\n",
              "      <td>0.003659</td>\n",
              "      <td>0.163126</td>\n",
              "      <td>0.001526</td>\n",
              "      <td>0.020139</td>\n",
              "      <td>0.020592</td>\n",
              "      <td>0.044130</td>\n",
              "      <td>0.123621</td>\n",
              "    </tr>\n",
              "    <tr>\n",
              "      <th>2</th>\n",
              "      <td>0.000096</td>\n",
              "      <td>0.002100</td>\n",
              "      <td>0.000395</td>\n",
              "      <td>0.004095</td>\n",
              "      <td>0.012346</td>\n",
              "      <td>0.015132</td>\n",
              "      <td>0.032018</td>\n",
              "      <td>0.000497</td>\n",
              "      <td>0.000427</td>\n",
              "      <td>0.112530</td>\n",
              "      <td>0.001161</td>\n",
              "      <td>0.819202</td>\n",
              "    </tr>\n",
              "    <tr>\n",
              "      <th>3</th>\n",
              "      <td>0.005396</td>\n",
              "      <td>0.986479</td>\n",
              "      <td>0.000002</td>\n",
              "      <td>0.001021</td>\n",
              "      <td>0.000136</td>\n",
              "      <td>0.000140</td>\n",
              "      <td>0.003149</td>\n",
              "      <td>0.000025</td>\n",
              "      <td>0.000158</td>\n",
              "      <td>0.003301</td>\n",
              "      <td>0.000157</td>\n",
              "      <td>0.000037</td>\n",
              "    </tr>\n",
              "    <tr>\n",
              "      <th>4</th>\n",
              "      <td>0.000098</td>\n",
              "      <td>0.066378</td>\n",
              "      <td>0.000006</td>\n",
              "      <td>0.826479</td>\n",
              "      <td>0.000384</td>\n",
              "      <td>0.011799</td>\n",
              "      <td>0.063967</td>\n",
              "      <td>0.000104</td>\n",
              "      <td>0.000770</td>\n",
              "      <td>0.002409</td>\n",
              "      <td>0.010657</td>\n",
              "      <td>0.016949</td>\n",
              "    </tr>\n",
              "  </tbody>\n",
              "</table>\n",
              "</div>"
            ],
            "text/plain": [
              "       19.0      25.0      27.0  ...      62.0      67.0      74.0\n",
              "0  0.000461  0.000933  0.001865  ...  0.021852  0.019794  0.047284\n",
              "1  0.008009  0.147530  0.314442  ...  0.020592  0.044130  0.123621\n",
              "2  0.000096  0.002100  0.000395  ...  0.112530  0.001161  0.819202\n",
              "3  0.005396  0.986479  0.000002  ...  0.003301  0.000157  0.000037\n",
              "4  0.000098  0.066378  0.000006  ...  0.002409  0.010657  0.016949\n",
              "\n",
              "[5 rows x 12 columns]"
            ]
          },
          "metadata": {
            "tags": []
          },
          "execution_count": 75
        }
      ]
    },
    {
      "cell_type": "code",
      "metadata": {
        "id": "nWXc8Dx9vDRD",
        "colab_type": "code",
        "outputId": "6c05c710-2c09-4706-add8-be8a73ea858f",
        "colab": {
          "base_uri": "https://localhost:8080/",
          "height": 35
        }
      },
      "source": [
        "test_labels = list(y_test)\n",
        "predictions = list(predictions.idxmax(axis=1))\n",
        "predictions[:10]"
      ],
      "execution_count": 0,
      "outputs": [
        {
          "output_type": "execute_result",
          "data": {
            "text/plain": [
              "[38.0, 27.0, 74.0, 25.0, 29.0, 29.0, 62.0, 53.0, 29.0, 53.0]"
            ]
          },
          "metadata": {
            "tags": []
          },
          "execution_count": 76
        }
      ]
    },
    {
      "cell_type": "code",
      "metadata": {
        "id": "tktFIcOHvKDv",
        "colab_type": "code",
        "outputId": "b85ab231-3518-479d-93a5-12a8a91cdc06",
        "colab": {
          "base_uri": "https://localhost:8080/",
          "height": 87
        }
      },
      "source": [
        "get_metrics(true_labels=test_labels,\n",
        "            predicted_labels=predictions)"
      ],
      "execution_count": 0,
      "outputs": [
        {
          "output_type": "stream",
          "text": [
            "Accuracy: 0.1272\n",
            "Precision: 0.1304\n",
            "Recall: 0.1272\n",
            "F1 Score: 0.122\n"
          ],
          "name": "stdout"
        }
      ]
    },
    {
      "cell_type": "code",
      "metadata": {
        "id": "HZnsGXCA7wfm",
        "colab_type": "code",
        "outputId": "0ef7a63e-bb33-4658-98de-c8b9a885a3eb",
        "colab": {
          "base_uri": "https://localhost:8080/",
          "height": 347
        }
      },
      "source": [
        "display_classification_report(true_labels=test_labels,\n",
        "                              predicted_labels=predictions,\n",
        "                              classes=list(labels_ohe_names.columns))"
      ],
      "execution_count": 0,
      "outputs": [
        {
          "output_type": "stream",
          "text": [
            "              precision    recall  f1-score   support\n",
            "\n",
            "        19.0       0.17      0.17      0.17       150\n",
            "        25.0       0.17      0.24      0.20       150\n",
            "        27.0       0.16      0.05      0.07       150\n",
            "        29.0       0.08      0.13      0.10       150\n",
            "        38.0       0.13      0.13      0.13       150\n",
            "        40.0       0.20      0.11      0.14       150\n",
            "        53.0       0.09      0.11      0.10       150\n",
            "        54.0       0.11      0.07      0.08       150\n",
            "        57.0       0.08      0.05      0.06       150\n",
            "        62.0       0.13      0.23      0.17       150\n",
            "        67.0       0.10      0.07      0.09       150\n",
            "        74.0       0.14      0.15      0.15       150\n",
            "\n",
            "    accuracy                           0.13      1800\n",
            "   macro avg       0.13      0.13      0.12      1800\n",
            "weighted avg       0.13      0.13      0.12      1800\n",
            "\n"
          ],
          "name": "stdout"
        }
      ]
    },
    {
      "cell_type": "code",
      "metadata": {
        "id": "WaNFKiwncGcl",
        "colab_type": "code",
        "outputId": "93a902dd-dea9-4e70-9318-abf70a365dc3",
        "colab": {
          "base_uri": "https://localhost:8080/",
          "height": 35
        }
      },
      "source": [
        "gc.collect()"
      ],
      "execution_count": 0,
      "outputs": [
        {
          "output_type": "execute_result",
          "data": {
            "text/plain": [
              "31"
            ]
          },
          "metadata": {
            "tags": []
          },
          "execution_count": 79
        }
      ]
    },
    {
      "cell_type": "code",
      "metadata": {
        "id": "m_vRDu8iH1_U",
        "colab_type": "code",
        "colab": {}
      },
      "source": [
        "model.save('model_1.h5')"
      ],
      "execution_count": 0,
      "outputs": []
    },
    {
      "cell_type": "code",
      "metadata": {
        "id": "5E-JQ12ROmNn",
        "colab_type": "code",
        "colab": {}
      },
      "source": [
        ""
      ],
      "execution_count": 0,
      "outputs": []
    },
    {
      "cell_type": "code",
      "metadata": {
        "id": "1ck12nyjII9L",
        "colab_type": "code",
        "outputId": "3e6cafd0-94ed-481d-f1bf-e243153c01a9",
        "colab": {
          "base_uri": "https://localhost:8080/",
          "height": 488
        }
      },
      "source": [
        "base_xception = Xception(weights='imagenet', include_top = False, input_shape=(299, 299, 3))"
      ],
      "execution_count": 0,
      "outputs": [
        {
          "output_type": "stream",
          "text": [
            "WARNING:tensorflow:From /usr/local/lib/python3.6/dist-packages/keras/backend/tensorflow_backend.py:66: The name tf.get_default_graph is deprecated. Please use tf.compat.v1.get_default_graph instead.\n",
            "\n",
            "WARNING:tensorflow:From /usr/local/lib/python3.6/dist-packages/keras/backend/tensorflow_backend.py:541: The name tf.placeholder is deprecated. Please use tf.compat.v1.placeholder instead.\n",
            "\n",
            "WARNING:tensorflow:From /usr/local/lib/python3.6/dist-packages/keras/backend/tensorflow_backend.py:4432: The name tf.random_uniform is deprecated. Please use tf.random.uniform instead.\n",
            "\n",
            "WARNING:tensorflow:From /usr/local/lib/python3.6/dist-packages/keras/backend/tensorflow_backend.py:190: The name tf.get_default_session is deprecated. Please use tf.compat.v1.get_default_session instead.\n",
            "\n",
            "WARNING:tensorflow:From /usr/local/lib/python3.6/dist-packages/keras/backend/tensorflow_backend.py:197: The name tf.ConfigProto is deprecated. Please use tf.compat.v1.ConfigProto instead.\n",
            "\n",
            "WARNING:tensorflow:From /usr/local/lib/python3.6/dist-packages/keras/backend/tensorflow_backend.py:203: The name tf.Session is deprecated. Please use tf.compat.v1.Session instead.\n",
            "\n",
            "WARNING:tensorflow:From /usr/local/lib/python3.6/dist-packages/keras/backend/tensorflow_backend.py:207: The name tf.global_variables is deprecated. Please use tf.compat.v1.global_variables instead.\n",
            "\n",
            "WARNING:tensorflow:From /usr/local/lib/python3.6/dist-packages/keras/backend/tensorflow_backend.py:216: The name tf.is_variable_initialized is deprecated. Please use tf.compat.v1.is_variable_initialized instead.\n",
            "\n",
            "WARNING:tensorflow:From /usr/local/lib/python3.6/dist-packages/keras/backend/tensorflow_backend.py:223: The name tf.variables_initializer is deprecated. Please use tf.compat.v1.variables_initializer instead.\n",
            "\n",
            "WARNING:tensorflow:From /usr/local/lib/python3.6/dist-packages/keras/backend/tensorflow_backend.py:2041: The name tf.nn.fused_batch_norm is deprecated. Please use tf.compat.v1.nn.fused_batch_norm instead.\n",
            "\n",
            "WARNING:tensorflow:From /usr/local/lib/python3.6/dist-packages/keras/backend/tensorflow_backend.py:148: The name tf.placeholder_with_default is deprecated. Please use tf.compat.v1.placeholder_with_default instead.\n",
            "\n",
            "WARNING:tensorflow:From /usr/local/lib/python3.6/dist-packages/keras/backend/tensorflow_backend.py:4267: The name tf.nn.max_pool is deprecated. Please use tf.nn.max_pool2d instead.\n",
            "\n",
            "Downloading data from https://github.com/fchollet/deep-learning-models/releases/download/v0.4/xception_weights_tf_dim_ordering_tf_kernels_notop.h5\n",
            "83689472/83683744 [==============================] - 2s 0us/step\n"
          ],
          "name": "stdout"
        }
      ]
    },
    {
      "cell_type": "code",
      "metadata": {
        "id": "XjqrFjvpORTN",
        "colab_type": "code",
        "colab": {}
      },
      "source": [
        "# Add a global spatial average pooling layer\n",
        "out = base_xception.output\n",
        "out = GlobalAveragePooling2D()(out)\n",
        "out = Dropout(0.1)(out)\n",
        "out = Dense(512, activation='relu')(out)\n",
        "out = Dense(512, activation='relu')(out)\n",
        "out = Dropout(0.1)(out)\n",
        "total_classes = y_train_ohe.shape[1]\n",
        "predictions = Dense(total_classes, activation='softmax')(out)"
      ],
      "execution_count": 0,
      "outputs": []
    },
    {
      "cell_type": "code",
      "metadata": {
        "id": "mzQz2GB4ORPi",
        "colab_type": "code",
        "colab": {}
      },
      "source": [
        "model = Model(inputs=base_xception.input, outputs=predictions)\n",
        "\n",
        "# only if we want to freeze layers\n",
        "for layer in base_xception.layers:\n",
        "    layer.trainable = False\n",
        "    \n",
        "# Compile \n",
        "model.compile(Adam(lr=.0001), loss='categorical_crossentropy', metrics=['accuracy'])\n",
        "\n",
        "# model.summary()"
      ],
      "execution_count": 0,
      "outputs": []
    },
    {
      "cell_type": "code",
      "metadata": {
        "id": "eyysfqvZcxQZ",
        "colab_type": "code",
        "outputId": "69a27c4f-e73d-49fe-c7ec-9dab2608ccf2",
        "colab": {
          "base_uri": "https://localhost:8080/",
          "height": 1000
        }
      },
      "source": [
        "# Train the model\n",
        "batch_size = BATCH_SIZE\n",
        "train_steps_per_epoch = x_train.shape[0] // batch_size\n",
        "val_steps_per_epoch = x_val.shape[0] // batch_size\n",
        "\n",
        "history = model.fit_generator(train_generator,\n",
        "                              steps_per_epoch=train_steps_per_epoch,\n",
        "                              validation_data=val_generator,\n",
        "                              validation_steps=val_steps_per_epoch,\n",
        "                              epochs=30,\n",
        "                              verbose=1)"
      ],
      "execution_count": 0,
      "outputs": [
        {
          "output_type": "stream",
          "text": [
            "Epoch 1/30\n",
            "148/148 [==============================] - 29s 197ms/step - loss: 2.2757 - acc: 0.1415 - val_loss: 2.2309 - val_acc: 0.1755\n",
            "Epoch 2/30\n",
            "148/148 [==============================] - 26s 176ms/step - loss: 2.1457 - acc: 0.2232 - val_loss: 2.1609 - val_acc: 0.1918\n",
            "Epoch 3/30\n",
            "148/148 [==============================] - 26s 176ms/step - loss: 2.0277 - acc: 0.2796 - val_loss: 2.1551 - val_acc: 0.1968\n",
            "Epoch 4/30\n",
            "148/148 [==============================] - 26s 176ms/step - loss: 1.9451 - acc: 0.3071 - val_loss: 2.1691 - val_acc: 0.1819\n",
            "Epoch 5/30\n",
            "148/148 [==============================] - 26s 176ms/step - loss: 1.8577 - acc: 0.3480 - val_loss: 2.1439 - val_acc: 0.1955\n",
            "Epoch 6/30\n",
            "148/148 [==============================] - 26s 176ms/step - loss: 1.7967 - acc: 0.3738 - val_loss: 2.1543 - val_acc: 0.1906\n",
            "Epoch 7/30\n",
            "148/148 [==============================] - 26s 176ms/step - loss: 1.7162 - acc: 0.4076 - val_loss: 2.1981 - val_acc: 0.2017\n",
            "Epoch 8/30\n",
            "148/148 [==============================] - 26s 176ms/step - loss: 1.6472 - acc: 0.4340 - val_loss: 2.2056 - val_acc: 0.1856\n",
            "Epoch 9/30\n",
            "148/148 [==============================] - 26s 176ms/step - loss: 1.5720 - acc: 0.4743 - val_loss: 2.2250 - val_acc: 0.1918\n",
            "Epoch 10/30\n",
            "148/148 [==============================] - 26s 176ms/step - loss: 1.4880 - acc: 0.4987 - val_loss: 2.2598 - val_acc: 0.1720\n",
            "Epoch 11/30\n",
            "148/148 [==============================] - 26s 176ms/step - loss: 1.4142 - acc: 0.5379 - val_loss: 2.2871 - val_acc: 0.1757\n",
            "Epoch 12/30\n",
            "148/148 [==============================] - 26s 176ms/step - loss: 1.3415 - acc: 0.5686 - val_loss: 2.2774 - val_acc: 0.1993\n",
            "Epoch 13/30\n",
            "148/148 [==============================] - 26s 176ms/step - loss: 1.2406 - acc: 0.6035 - val_loss: 2.3244 - val_acc: 0.1906\n",
            "Epoch 14/30\n",
            "148/148 [==============================] - 26s 175ms/step - loss: 1.1721 - acc: 0.6294 - val_loss: 2.3427 - val_acc: 0.2017\n",
            "Epoch 15/30\n",
            "148/148 [==============================] - 26s 175ms/step - loss: 1.0963 - acc: 0.6572 - val_loss: 2.4095 - val_acc: 0.1844\n",
            "Epoch 16/30\n",
            "148/148 [==============================] - 26s 175ms/step - loss: 1.0087 - acc: 0.6900 - val_loss: 2.4414 - val_acc: 0.1906\n",
            "Epoch 17/30\n",
            "148/148 [==============================] - 26s 175ms/step - loss: 0.9491 - acc: 0.7145 - val_loss: 2.4110 - val_acc: 0.1993\n",
            "Epoch 18/30\n",
            "148/148 [==============================] - 26s 175ms/step - loss: 0.8740 - acc: 0.7420 - val_loss: 2.5197 - val_acc: 0.1968\n",
            "Epoch 19/30\n",
            "148/148 [==============================] - 26s 175ms/step - loss: 0.8022 - acc: 0.7685 - val_loss: 2.5800 - val_acc: 0.1980\n",
            "Epoch 20/30\n",
            "148/148 [==============================] - 26s 175ms/step - loss: 0.7305 - acc: 0.7977 - val_loss: 2.6048 - val_acc: 0.1931\n",
            "Epoch 21/30\n",
            "148/148 [==============================] - 26s 176ms/step - loss: 0.6576 - acc: 0.8266 - val_loss: 2.6572 - val_acc: 0.1918\n",
            "Epoch 22/30\n",
            "148/148 [==============================] - 26s 175ms/step - loss: 0.5976 - acc: 0.8461 - val_loss: 2.7334 - val_acc: 0.1832\n",
            "Epoch 23/30\n",
            "148/148 [==============================] - 26s 175ms/step - loss: 0.5573 - acc: 0.8587 - val_loss: 2.6842 - val_acc: 0.2005\n",
            "Epoch 24/30\n",
            "148/148 [==============================] - 26s 175ms/step - loss: 0.4966 - acc: 0.8777 - val_loss: 2.7941 - val_acc: 0.2129\n",
            "Epoch 25/30\n",
            "148/148 [==============================] - 26s 175ms/step - loss: 0.4637 - acc: 0.8880 - val_loss: 2.8806 - val_acc: 0.1906\n",
            "Epoch 26/30\n",
            "148/148 [==============================] - 26s 176ms/step - loss: 0.4099 - acc: 0.9082 - val_loss: 2.8493 - val_acc: 0.2092\n",
            "Epoch 27/30\n",
            "148/148 [==============================] - 26s 175ms/step - loss: 0.3764 - acc: 0.9155 - val_loss: 2.9396 - val_acc: 0.1993\n",
            "Epoch 28/30\n",
            "148/148 [==============================] - 26s 177ms/step - loss: 0.3356 - acc: 0.9313 - val_loss: 2.9880 - val_acc: 0.2007\n",
            "Epoch 29/30\n",
            "148/148 [==============================] - 26s 176ms/step - loss: 0.3065 - acc: 0.9364 - val_loss: 3.0473 - val_acc: 0.2054\n",
            "Epoch 30/30\n",
            "148/148 [==============================] - 26s 175ms/step - loss: 0.2753 - acc: 0.9429 - val_loss: 3.0538 - val_acc: 0.1906\n"
          ],
          "name": "stdout"
        }
      ]
    },
    {
      "cell_type": "code",
      "metadata": {
        "id": "FzocTgDZORKE",
        "colab_type": "code",
        "outputId": "1051aeb2-209e-4ce3-f53a-117029ac7416",
        "colab": {
          "base_uri": "https://localhost:8080/",
          "height": 398
        }
      },
      "source": [
        "f, (ax1, ax2) = plt.subplots(1, 2, figsize=(15, 5))\n",
        "t = f.suptitle('Deep Neural Net Performance', fontsize=12)\n",
        "f.subplots_adjust(top=0.85, wspace=0.3)\n",
        "\n",
        "epochs = list(range(1,31))\n",
        "ax1.plot(epochs, history.history['acc'], label='Train Accuracy')\n",
        "ax1.plot(epochs, history.history['val_acc'], label='Validation Accuracy')\n",
        "ax1.set_xticks(epochs)\n",
        "ax1.set_ylabel('Accuracy Value')\n",
        "ax1.set_xlabel('Epoch')\n",
        "ax1.set_title('Accuracy')\n",
        "l1 = ax1.legend(loc=\"best\")\n",
        "\n",
        "ax2.plot(epochs, history.history['loss'], label='Train Loss')\n",
        "ax2.plot(epochs, history.history['val_loss'], label='Validation Loss')\n",
        "ax2.set_xticks(epochs)\n",
        "ax2.set_ylabel('Loss Value')\n",
        "ax2.set_xlabel('Epoch')\n",
        "ax2.set_title('Loss')\n",
        "l2 = ax2.legend(loc=\"best\")"
      ],
      "execution_count": 0,
      "outputs": [
        {
          "output_type": "display_data",
          "data": {
            "image/png": "[encoded data removed]",
            "text/plain": [
              "<Figure size 1080x360 with 2 Axes>"
            ]
          },
          "metadata": {
            "tags": []
          }
        }
      ]
    },
    {
      "cell_type": "code",
      "metadata": {
        "id": "_BWLrddOORHy",
        "colab_type": "code",
        "outputId": "8a5d02d8-e61d-4769-868a-39592686fa7b",
        "colab": {
          "base_uri": "https://localhost:8080/",
          "height": 243
        }
      },
      "source": [
        "test_predictions = model.predict(x_test)\n",
        "test_predictions"
      ],
      "execution_count": 0,
      "outputs": [
        {
          "output_type": "execute_result",
          "data": {
            "text/plain": [
              "array([[4.9610720e-09, 7.4511331e-01, 5.1414605e-05, ..., 2.2802286e-10,\n",
              "        2.4789180e-01, 2.5113214e-09],\n",
              "       [2.7929144e-03, 9.9707830e-01, 6.3628286e-06, ..., 1.9853649e-14,\n",
              "        1.2250872e-08, 4.8215078e-13],\n",
              "       [1.5579669e-03, 9.9844199e-01, 2.0652015e-16, ..., 0.0000000e+00,\n",
              "        0.0000000e+00, 0.0000000e+00],\n",
              "       ...,\n",
              "       [2.1677003e-04, 9.9968493e-01, 5.0589235e-05, ..., 6.4238924e-24,\n",
              "        1.4879674e-11, 4.1770363e-21],\n",
              "       [2.5197728e-06, 9.4623607e-01, 4.8478731e-04, ..., 2.0765584e-10,\n",
              "        4.6166595e-02, 6.2789045e-06],\n",
              "       [8.5538602e-08, 9.5202429e-03, 1.6189059e-03, ..., 4.9523629e-07,\n",
              "        8.0763710e-01, 1.7418856e-06]], dtype=float32)"
            ]
          },
          "metadata": {
            "tags": []
          },
          "execution_count": 64
        }
      ]
    },
    {
      "cell_type": "code",
      "metadata": {
        "id": "-NpxAhXJORFf",
        "colab_type": "code",
        "outputId": "e73a02dd-05dc-4315-f25d-063fc08a9545",
        "colab": {
          "base_uri": "https://localhost:8080/",
          "height": 309
        }
      },
      "source": [
        "predictions = pd.DataFrame(test_predictions, columns=labels_ohe_names.columns)\n",
        "predictions.head()"
      ],
      "execution_count": 0,
      "outputs": [
        {
          "output_type": "execute_result",
          "data": {
            "text/html": [
              "<div>\n",
              "<style scoped>\n",
              "    .dataframe tbody tr th:only-of-type {\n",
              "        vertical-align: middle;\n",
              "    }\n",
              "\n",
              "    .dataframe tbody tr th {\n",
              "        vertical-align: top;\n",
              "    }\n",
              "\n",
              "    .dataframe thead th {\n",
              "        text-align: right;\n",
              "    }\n",
              "</style>\n",
              "<table border=\"1\" class=\"dataframe\">\n",
              "  <thead>\n",
              "    <tr style=\"text-align: right;\">\n",
              "      <th></th>\n",
              "      <th>7.0</th>\n",
              "      <th>19.0</th>\n",
              "      <th>25.0</th>\n",
              "      <th>27.0</th>\n",
              "      <th>38.0</th>\n",
              "      <th>40.0</th>\n",
              "      <th>53.0</th>\n",
              "      <th>67.0</th>\n",
              "      <th>74.0</th>\n",
              "      <th>100.0</th>\n",
              "    </tr>\n",
              "  </thead>\n",
              "  <tbody>\n",
              "    <tr>\n",
              "      <th>0</th>\n",
              "      <td>4.961072e-09</td>\n",
              "      <td>0.745113</td>\n",
              "      <td>5.141460e-05</td>\n",
              "      <td>5.206295e-04</td>\n",
              "      <td>5.820199e-04</td>\n",
              "      <td>5.709136e-03</td>\n",
              "      <td>1.316617e-04</td>\n",
              "      <td>2.280229e-10</td>\n",
              "      <td>2.478918e-01</td>\n",
              "      <td>2.511321e-09</td>\n",
              "    </tr>\n",
              "    <tr>\n",
              "      <th>1</th>\n",
              "      <td>2.792914e-03</td>\n",
              "      <td>0.997078</td>\n",
              "      <td>6.362829e-06</td>\n",
              "      <td>2.132005e-07</td>\n",
              "      <td>1.586864e-05</td>\n",
              "      <td>1.064723e-04</td>\n",
              "      <td>1.554427e-11</td>\n",
              "      <td>1.985365e-14</td>\n",
              "      <td>1.225087e-08</td>\n",
              "      <td>4.821508e-13</td>\n",
              "    </tr>\n",
              "    <tr>\n",
              "      <th>2</th>\n",
              "      <td>1.557967e-03</td>\n",
              "      <td>0.998442</td>\n",
              "      <td>2.065201e-16</td>\n",
              "      <td>3.951911e-31</td>\n",
              "      <td>3.970989e-20</td>\n",
              "      <td>4.880576e-30</td>\n",
              "      <td>0.000000e+00</td>\n",
              "      <td>0.000000e+00</td>\n",
              "      <td>0.000000e+00</td>\n",
              "      <td>0.000000e+00</td>\n",
              "    </tr>\n",
              "    <tr>\n",
              "      <th>3</th>\n",
              "      <td>3.621096e-01</td>\n",
              "      <td>0.637890</td>\n",
              "      <td>4.373763e-08</td>\n",
              "      <td>1.506935e-27</td>\n",
              "      <td>1.335740e-23</td>\n",
              "      <td>1.154093e-21</td>\n",
              "      <td>0.000000e+00</td>\n",
              "      <td>0.000000e+00</td>\n",
              "      <td>0.000000e+00</td>\n",
              "      <td>0.000000e+00</td>\n",
              "    </tr>\n",
              "    <tr>\n",
              "      <th>4</th>\n",
              "      <td>6.270558e-26</td>\n",
              "      <td>0.999811</td>\n",
              "      <td>2.423870e-14</td>\n",
              "      <td>2.263437e-24</td>\n",
              "      <td>1.884987e-04</td>\n",
              "      <td>1.564649e-13</td>\n",
              "      <td>2.448596e-13</td>\n",
              "      <td>4.098385e-23</td>\n",
              "      <td>5.884420e-12</td>\n",
              "      <td>3.337781e-21</td>\n",
              "    </tr>\n",
              "  </tbody>\n",
              "</table>\n",
              "</div>"
            ],
            "text/plain": [
              "          7.0       19.0   ...         74.0          100.0\n",
              "0  4.961072e-09  0.745113  ...  2.478918e-01  2.511321e-09\n",
              "1  2.792914e-03  0.997078  ...  1.225087e-08  4.821508e-13\n",
              "2  1.557967e-03  0.998442  ...  0.000000e+00  0.000000e+00\n",
              "3  3.621096e-01  0.637890  ...  0.000000e+00  0.000000e+00\n",
              "4  6.270558e-26  0.999811  ...  5.884420e-12  3.337781e-21\n",
              "\n",
              "[5 rows x 10 columns]"
            ]
          },
          "metadata": {
            "tags": []
          },
          "execution_count": 65
        }
      ]
    },
    {
      "cell_type": "code",
      "metadata": {
        "id": "7hIvy0ifORDQ",
        "colab_type": "code",
        "outputId": "3c37e6c7-6df5-4de5-b71e-e49c2a388b6c",
        "colab": {
          "base_uri": "https://localhost:8080/",
          "height": 35
        }
      },
      "source": [
        "test_labels = list(y_test)\n",
        "predictions = list(predictions.idxmax(axis=1))\n",
        "predictions[:10]"
      ],
      "execution_count": 0,
      "outputs": [
        {
          "output_type": "execute_result",
          "data": {
            "text/plain": [
              "[19.0, 19.0, 19.0, 19.0, 19.0, 38.0, 19.0, 19.0, 19.0, 19.0]"
            ]
          },
          "metadata": {
            "tags": []
          },
          "execution_count": 66
        }
      ]
    },
    {
      "cell_type": "code",
      "metadata": {
        "id": "6TC_C9ujORBD",
        "colab_type": "code",
        "outputId": "a7e4bfec-d49a-470a-b403-96fb7a56c8c2",
        "colab": {
          "base_uri": "https://localhost:8080/",
          "height": 87
        }
      },
      "source": [
        "get_metrics(true_labels=test_labels,\n",
        "            predicted_labels=predictions)"
      ],
      "execution_count": 0,
      "outputs": [
        {
          "output_type": "stream",
          "text": [
            "Accuracy: 0.1017\n",
            "Precision: 0.1024\n",
            "Recall: 0.1017\n",
            "F1 Score: 0.0553\n"
          ],
          "name": "stdout"
        }
      ]
    },
    {
      "cell_type": "code",
      "metadata": {
        "id": "eGss5NgsOQ-c",
        "colab_type": "code",
        "outputId": "7af89cb8-7988-441b-951b-cfae4a12cc1a",
        "colab": {
          "base_uri": "https://localhost:8080/",
          "height": 312
        }
      },
      "source": [
        "display_classification_report(true_labels=test_labels,\n",
        "                              predicted_labels=predictions,\n",
        "                              classes=list(labels_ohe_names.columns))"
      ],
      "execution_count": 0,
      "outputs": [
        {
          "output_type": "stream",
          "text": [
            "              precision    recall  f1-score   support\n",
            "\n",
            "         7.0       0.16      0.11      0.13       240\n",
            "        19.0       0.09      0.70      0.16       240\n",
            "        25.0       0.17      0.03      0.04       240\n",
            "        27.0       0.00      0.00      0.00       240\n",
            "        38.0       0.03      0.00      0.01       240\n",
            "        40.0       0.18      0.05      0.08       240\n",
            "        53.0       0.00      0.00      0.00       240\n",
            "        67.0       0.00      0.00      0.00       240\n",
            "        74.0       0.11      0.12      0.11       240\n",
            "       100.0       0.29      0.01      0.02       240\n",
            "\n",
            "    accuracy                           0.10      2400\n",
            "   macro avg       0.10      0.10      0.06      2400\n",
            "weighted avg       0.10      0.10      0.06      2400\n",
            "\n"
          ],
          "name": "stdout"
        }
      ]
    },
    {
      "cell_type": "code",
      "metadata": {
        "id": "ZPk5huIOOQhy",
        "colab_type": "code",
        "outputId": "8b68e16f-b4eb-4522-ee7c-a6b4e9cca410",
        "colab": {
          "base_uri": "https://localhost:8080/",
          "height": 35
        }
      },
      "source": [
        "gc.collect()"
      ],
      "execution_count": 0,
      "outputs": [
        {
          "output_type": "execute_result",
          "data": {
            "text/plain": [
              "18"
            ]
          },
          "metadata": {
            "tags": []
          },
          "execution_count": 69
        }
      ]
    },
    {
      "cell_type": "code",
      "metadata": {
        "id": "AiFDZ-JgLPUy",
        "colab_type": "code",
        "colab": {}
      },
      "source": [
        "model.save('aov_model.h5')"
      ],
      "execution_count": 0,
      "outputs": []
    },
    {
      "cell_type": "code",
      "metadata": {
        "id": "0r0Wv1S8O347",
        "colab_type": "code",
        "colab": {}
      },
      "source": [
        ""
      ],
      "execution_count": 0,
      "outputs": []
    }
  ]
}